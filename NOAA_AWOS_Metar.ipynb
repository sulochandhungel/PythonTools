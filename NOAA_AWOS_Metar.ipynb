{
  "nbformat": 4,
  "nbformat_minor": 0,
  "metadata": {
    "colab": {
      "provenance": [],
      "authorship_tag": "ABX9TyNMl4NR17eKqn58l5Gj33Bq",
      "include_colab_link": true
    },
    "kernelspec": {
      "name": "python3",
      "display_name": "Python 3"
    },
    "language_info": {
      "name": "python"
    }
  },
  "cells": [
    {
      "cell_type": "markdown",
      "metadata": {
        "id": "view-in-github",
        "colab_type": "text"
      },
      "source": [
        "<a href=\"https://colab.research.google.com/github/sulochandhungel/PythonTools/blob/main/NOAA_AWOS_Metar.ipynb\" target=\"_parent\"><img src=\"https://colab.research.google.com/assets/colab-badge.svg\" alt=\"Open In Colab\"/></a>"
      ]
    },
    {
      "cell_type": "code",
      "execution_count": 2,
      "metadata": {
        "id": "v8RUUPE3VhqP",
        "colab": {
          "base_uri": "https://localhost:8080/"
        },
        "outputId": "a6179a23-2998-4b55-c997-f237132eea5d"
      },
      "outputs": [
        {
          "output_type": "stream",
          "name": "stdout",
          "text": [
            "Looking in indexes: https://pypi.org/simple, https://us-python.pkg.dev/colab-wheels/public/simple/\n",
            "Collecting metar\n",
            "  Downloading metar-1.9.0-py3-none-any.whl (198 kB)\n",
            "\u001b[2K     \u001b[90m━━━━━━━━━━━━━━━━━━━━━━━━━━━━━━━━━━━━━━━\u001b[0m \u001b[32m198.7/198.7 KB\u001b[0m \u001b[31m6.5 MB/s\u001b[0m eta \u001b[36m0:00:00\u001b[0m\n",
            "\u001b[?25hInstalling collected packages: metar\n",
            "Successfully installed metar-1.9.0\n"
          ]
        }
      ],
      "source": [
        "from __future__ import division\n",
        "import os\n",
        "import datetime\n",
        "\n",
        "import numpy as np\n",
        "import pandas\n",
        "#import statsmodels.api as sm\n",
        "\n",
        "import matplotlib\n",
        "matplotlib.rcParams['savefig.dpi'] = 144\n",
        "import matplotlib.pyplot as plt\n",
        "\n",
        "#!pip install metar\n",
        "import metar\n",
        "\n",
        "from IPython.display import HTML\n",
        "%config InlineBackend.figure_format = 'svg'\n",
        "\n",
        "## uncomment the next line to embed the FAA map into the notebook.\n",
        "#HTML('')"
      ]
    },
    {
      "cell_type": "code",
      "source": [
        "from metar import Metar\n",
        "obs = Metar.Metar('METAR KEWR 111851Z VRB03G19KT 2SM R04R/3000VP6000FT TSRA BR FEW015 BKN040CB BKN065 OVC200 22/22 A2987 RMK AO2 PK WND 29028/1817 WSHFT 1812 TSB05RAB22 SLP114 FRQ LTGICCCCG TS OHD AND NW -N-E MOV NE P0013 T02270215')\n",
        "print (obs.string())"
      ],
      "metadata": {
        "colab": {
          "base_uri": "https://localhost:8080/"
        },
        "id": "317jF_7GV0-c",
        "outputId": "39df8c70-967b-4089-b376-5e217a6f7685"
      },
      "execution_count": 3,
      "outputs": [
        {
          "output_type": "stream",
          "name": "stdout",
          "text": [
            "station: KEWR\n",
            "type: routine report, cycle 19 (automatic report)\n",
            "time: Wed Jan 11 18:51:00 2023\n",
            "temperature: 22.7 C\n",
            "dew point: 21.5 C\n",
            "wind: variable at 3 knots, gusting to 19 knots\n",
            "peak wind: WNW at 28 knots at 18:17\n",
            "wind shift: 18:12\n",
            "visibility: 2 miles\n",
            "visual range: on runway 04R, from 3000 to greater than 6000 feet\n",
            "pressure: 1011.5 mb\n",
            "weather: thunderstorm with rain; mist\n",
            "sky: a few clouds at 1500 feet\n",
            "     broken cumulonimbus at 4000 feet\n",
            "     broken clouds at 6500 feet\n",
            "     overcast at 20000 feet\n",
            "sea-level pressure: 1011.4 mb\n",
            "1-hour precipitation: 0.13in\n",
            "remarks:\n",
            "- Automated station (type 2)\n",
            "- peak wind 28kt from 290 degrees at 18:17\n",
            "- wind shift at 18:12\n",
            "- frequent lightning (intracloud,cloud-to-cloud,cloud-to-ground)\n",
            "- thunderstorm overhead and NW\n",
            "- TSB05RAB22 -N-E MOV NE\n",
            "METAR: METAR KEWR 111851Z VRB03G19KT 2SM R04R/3000VP6000FT TSRA BR FEW015 BKN040CB BKN065 OVC200 22/22 A2987 RMK AO2 PK WND 29028/1817 WSHFT 1812 TSB05RAB22 SLP114 FRQ LTGICCCCG TS OHD AND NW -N-E MOV NE P0013 T02270215\n"
          ]
        }
      ]
    },
    {
      "cell_type": "code",
      "source": [
        "dir(obs)"
      ],
      "metadata": {
        "colab": {
          "base_uri": "https://localhost:8080/"
        },
        "id": "3Ykf6zlNco0C",
        "outputId": "3dde5ee2-660a-440b-e653-237dbe655509"
      },
      "execution_count": 36,
      "outputs": [
        {
          "output_type": "execute_result",
          "data": {
            "text/plain": [
              "['__class__',\n",
              " '__delattr__',\n",
              " '__dict__',\n",
              " '__dir__',\n",
              " '__doc__',\n",
              " '__eq__',\n",
              " '__format__',\n",
              " '__ge__',\n",
              " '__getattribute__',\n",
              " '__gt__',\n",
              " '__hash__',\n",
              " '__init__',\n",
              " '__init_subclass__',\n",
              " '__le__',\n",
              " '__lt__',\n",
              " '__module__',\n",
              " '__ne__',\n",
              " '__new__',\n",
              " '__reduce__',\n",
              " '__reduce_ex__',\n",
              " '__repr__',\n",
              " '__setattr__',\n",
              " '__sizeof__',\n",
              " '__str__',\n",
              " '__subclasshook__',\n",
              " '__weakref__',\n",
              " '_day',\n",
              " '_do_trend_handlers',\n",
              " '_handleAutoRemark',\n",
              " '_handleColor',\n",
              " '_handleCorrection',\n",
              " '_handleIceAccretionRemark',\n",
              " '_handleLightningRemark',\n",
              " '_handleModifier',\n",
              " '_handlePeakWindRemark',\n",
              " '_handlePrecip1hrRemark',\n",
              " '_handlePrecip24hrRemark',\n",
              " '_handlePress3hrRemark',\n",
              " '_handlePressure',\n",
              " '_handleRecent',\n",
              " '_handleRunway',\n",
              " '_handleRunwayState',\n",
              " '_handleSealvlPressRemark',\n",
              " '_handleSky',\n",
              " '_handleSnowDepthRemark',\n",
              " '_handleStation',\n",
              " '_handleTSLocRemark',\n",
              " '_handleTemp',\n",
              " '_handleTemp1hrRemark',\n",
              " '_handleTemp24hrRemark',\n",
              " '_handleTemp6hrRemark',\n",
              " '_handleTime',\n",
              " '_handleTrend',\n",
              " '_handleType',\n",
              " '_handleVisibility',\n",
              " '_handleWeather',\n",
              " '_handleWind',\n",
              " '_handleWindShear',\n",
              " '_handleWindShiftRemark',\n",
              " '_hour',\n",
              " '_min',\n",
              " '_month',\n",
              " '_now',\n",
              " '_remarks',\n",
              " '_startRemarks',\n",
              " '_trend',\n",
              " '_trend_groups',\n",
              " '_unparsedRemark',\n",
              " '_unparsed_groups',\n",
              " '_unparsed_remarks',\n",
              " '_utcdelta',\n",
              " '_weather',\n",
              " '_year',\n",
              " 'code',\n",
              " 'correction',\n",
              " 'cycle',\n",
              " 'decode_completed',\n",
              " 'dewpt',\n",
              " 'handlers',\n",
              " 'ice_accretion_1hr',\n",
              " 'ice_accretion_3hr',\n",
              " 'ice_accretion_6hr',\n",
              " 'max_temp_24hr',\n",
              " 'max_temp_6hr',\n",
              " 'max_vis',\n",
              " 'max_vis_dir',\n",
              " 'min_temp_24hr',\n",
              " 'min_temp_6hr',\n",
              " 'mod',\n",
              " 'peak_wind',\n",
              " 'peak_wind_time',\n",
              " 'precip_1hr',\n",
              " 'precip_24hr',\n",
              " 'precip_3hr',\n",
              " 'precip_6hr',\n",
              " 'present_weather',\n",
              " 'press',\n",
              " 'press_sea_level',\n",
              " 'recent',\n",
              " 'recent_weather',\n",
              " 'remark_handlers',\n",
              " 'remarks',\n",
              " 'report_type',\n",
              " 'runway',\n",
              " 'runway_visual_range',\n",
              " 'sky',\n",
              " 'sky_conditions',\n",
              " 'snowdepth',\n",
              " 'station_id',\n",
              " 'string',\n",
              " 'temp',\n",
              " 'time',\n",
              " 'trend',\n",
              " 'trend_handlers',\n",
              " 'type',\n",
              " 'vis',\n",
              " 'vis_dir',\n",
              " 'visibility',\n",
              " 'weather',\n",
              " 'wind',\n",
              " 'wind_dir',\n",
              " 'wind_dir_from',\n",
              " 'wind_dir_peak',\n",
              " 'wind_dir_to',\n",
              " 'wind_gust',\n",
              " 'wind_shift',\n",
              " 'wind_shift_time',\n",
              " 'wind_speed',\n",
              " 'wind_speed_peak',\n",
              " 'windshear']"
            ]
          },
          "metadata": {},
          "execution_count": 36
        }
      ]
    },
    {
      "cell_type": "code",
      "source": [
        "# COPY THE METAR DATA from the website here:\n",
        "\n",
        "raw_data = \"\"\"\\\n",
        "KSHN 060053Z AUTO 24016G23KT 10SM CLR 08/06 A2998 RMK AO2 PK WND 24027/0019 SLP155 T00780056\n",
        "KSHN 052353Z AUTO 24014KT 10SM FEW016 BKN080 10/07 A2994 RMK AO2 SLP141 60002 T01000072 10106 20072 53022\n",
        "KSHN 052253Z AUTO 24016G20KT 10SM FEW015 SCT065 OVC080 09/07 A2990 RMK AO2 SLP127 T00940072\n",
        "KSHN 052241Z AUTO 23014KT 10SM FEW012 BKN070 OVC080 10/07 A2990 RMK AO2 T01000072\n",
        "KSHN 052200Z AUTO 21009KT 10SM FEW009 SCT012 BKN020 10/08 A2988 RMK AO2 T01000078\n",
        "KSHN 052153Z AUTO 21009KT 10SM SCT011 BKN065 BKN100 10/08 A2988 RMK AO2 RAE04 SLP119 P0000 T01000083\n",
        "KSHN 052150Z AUTO 20009KT 10SM FEW007 BKN065 BKN100 10/08 A2987 RMK AO2 RAE04 P0000\n",
        "KSHN 052122Z AUTO 19006KT 10SM FEW027 OVC070 09/08 A2987 RMK AO2 RAE04 P0000 T00940078\n",
        "KSHN 052102Z AUTO 22005KT 10SM -RA SCT011 OVC029 09/07 A2987 RMK AO2 P0000 T00940072\n",
        "KSHN 052053Z AUTO 24004KT 10SM -RA BKN011 OVC030 09/08 A2987 RMK AO2 RAB53 SLP116 P0000 60002 T00940078 53015\n",
        "KSHN 052035Z AUTO 13003KT 10SM BKN011 BKN021 OVC027 09/08 A2986 RMK AO2 CIG 007V014 T00890078\n",
        "KSHN 052015Z AUTO 00000KT 10SM SCT009 BKN016 OVC025 09/07 A2985 RMK AO2 CIG 013V022 T00890072\n",
        "KSHN 051953Z AUTO 00000KT 10SM BKN009 OVC070 09/07 A2984 RMK AO2 RAE02 SLP109 P0000 T00890072\n",
        "KSHN 051902Z AUTO 00000KT 10SM FEW006 BKN031 OVC065 08/07 A2983 RMK AO2 RAE02 P0000 T00830072\n",
        "KSHN 051853Z AUTO 00000KT 10SM -RA FEW023 BKN031 OVC060 08/07 A2982 RMK AO2 SLP102 P0002 T00830072\n",
        "KSHN 051848Z AUTO 00000KT 10SM -RA SCT025 BKN031 OVC055 08/07 A2982 RMK AO2 P0002\n",
        "KSHN 051804Z AUTO 00000KT 10SM -RA BKN025 OVC035 07/07 A2980 RMK AO2 P0001 T00720067\n",
        "KSHN 051753Z AUTO 00000KT 9SM -RA FEW024 SCT030 OVC035 07/07 A2979 RMK AO2 SLP093 P0004 60023 T00720067 10072 20044 51039\n",
        "KSHN 051653Z AUTO 00000KT 5SM -RA BR OVC037 06/06 A2976 RMK AO2 SLP081 P0008 T00610061\n",
        "KSHN 051553Z AUTO 15003KT 7SM -RA FEW030 OVC039 06/05 A2972 RMK AO2 SLP068 P0005 T00560050\n",
        "KSHN 051453Z AUTO 33003KT 9SM -RA OVC043 07/06 A2968 RMK AO2 SLP053 P0003 60006 T00670056 53016\n",
        "KSHN 051353Z AUTO 00000KT 10SM -RA OVC045 06/05 A2966 RMK AO2 SLP048 P0002 T00560050\n",
        "KSHN 051253Z AUTO 00000KT 10SM -RA OVC049 07/05 A2964 RMK AO2 RAB1159 SLP039 P0001 T00670050\n",
        "KSHN 051153Z AUTO 00000KT 10SM OVC055 05/04 A2963 RMK AO2 SLP038 70027 T00500044 10072 20044 55003\n",
        "KSHN 051053Z AUTO 04003KT 10SM BKN085 06/05 A2963 RMK AO2 SLP035 T00610050\n",
        "KSHN 050953Z AUTO 03006KT 10SM OVC095 07/05 A2963 RMK AO2 SLP037 T00670050\n",
        "KSHN 050853Z AUTO 02006KT 10SM SCT100 06/05 A2964 RMK AO2 SLP041 T00610050 56031\n",
        "KSHN 050753Z AUTO 04004KT 10SM SCT095 06/06 A2967 RMK AO2 SLP052 T00610056 400940061\n",
        "KSHN 050653Z AUTO 36008KT 10SM BKN085 OVC110 07/06 A2969 RMK AO2 SLP057 T00720061\n",
        "KSHN 050553Z AUTO 02007KT 10SM BKN100 07/06 A2974 RMK AO2 RAE00 SLP073 P0000 60013 T00670061 10089 20067 58033\n",
        "KSHN 050453Z AUTO 03009KT 10SM -RA FEW048 BKN055 OVC070 07/06 A2977 RMK AO2 PRESFR SLP083 P0002 T00720061\n",
        "KSHN 050353Z AUTO 02004KT 10SM -RA OVC055 08/07 A2981 RMK AO2 SLP099 P0002 T00780067\n",
        "KSHN 050253Z AUTO 06003KT 6SM -RA BR OVC039 08/07 A2983 RMK AO2 SLP106 P0006 60009 T00780072 57012\n",
        "KSHN 050219Z AUTO 00000KT 6SM -RA BR FEW026 SCT031 OVC037 08/07 A2985 RMK AO2 P0002 T00780072\n",
        "KSHN 050153Z AUTO 00000KT 10SM -RA BKN027 BKN034 OVC043 08/07 A2985 RMK AO2 SLP111 P0001 T00780072\n",
        "KSHN 050053Z AUTO 01003KT 9SM -RA OVC049 08/08 A2985 RMK AO2 RAB2357 SLP113 P0002 T00830078\n",
        "KSHN 042353Z AUTO 36003KT 10SM BKN065 OVC090 09/08 A2987 RMK AO2 SLP117 60006 T00890078 10094 20072 56023\n",
        "KSHN 042253Z AUTO 01003KT 10SM FEW005 OVC090 09/08 A2988 RMK AO2 SLP122 T00890078\n",
        "KSHN 042203Z AUTO 35003KT 10SM FEW004 OVC095 09/08 A2991 RMK AO2 T00890078\n",
        "KSHN 042153Z AUTO 02003KT 10SM OVC100 09/08 A2991 RMK AO2 SLP130 T00890078\n",
        "KSHN 042053Z AUTO 01005KT 10SM FEW048 BKN090 OVC110 08/08 A2994 RMK AO2 RAE40 SLP140 P0002 60006 T00830078 58016\n",
        "KSHN 041953Z AUTO 36004KT 10SM -RA OVC050 08/08 A2998 RMK AO2 RAB00 SLP153 P0003 T00830078\n",
        "KSHN 041853Z AUTO 01003KT 10SM OVC050 08/07 A2999 RMK AO2 RAB16E52 SLP157 P0001 T00780072\n",
        "KSHN 041753Z AUTO 00000KT 10SM OVC050 07/07 A2998 RMK AO2 SLP156 60008 T00720067 10072 20061 56002\n",
        "KSHN 041653Z AUTO 00000KT 10SM FEW004 BKN036 OVC046 07/07 A2998 RMK AO2 RAB39E50 SLP156 P0000 T00720067\n",
        "KSHN 041556Z AUTO 35003KT 10SM SCT006 OVC035 07/06 A2998 RMK AO2 T00670061\n",
        "KSHN 041553Z AUTO 00000KT 10SM BKN005 OVC035 07/06 A2998 RMK AO2 SLP157 T00670061\n",
        "KSHN 041542Z AUTO 00000KT 10SM BKN005 OVC035 07/06 A2998 RMK AO2 T00670061\n",
        "KSHN 041519Z AUTO 00000KT 10SM OVC004 07/06 A2999 RMK AO2 T00670061\n",
        "KSHN 041506Z AUTO 36003KT 10SM OVC005 07/06 A2999 RMK AO2 T00670061\n",
        "KSHN 041453Z AUTO 01004KT 10SM OVC006 07/06 A2999 RMK AO2 RAE06 SLP159 P0000 60008 T00670061 56009\n",
        "KSHN 041414Z AUTO 02004KT 10SM BKN008 OVC034 07/06 A2999 RMK AO2 RAE06 P0000 T00670061\n",
        "KSHN 041406Z AUTO 03004KT 10SM BKN010 OVC032 07/06 A2999 RMK AO2 RAE06 P0000 T00670061\n",
        "KSHN 041353Z AUTO 03003KT 4SM -RA BR SCT007 SCT011 OVC030 07/06 A2999 RMK AO2 RAE39B47 SLP161 P0005 T00670061\n",
        "KSHN 041339Z AUTO 35004KT 7SM FEW006 SCT012 OVC035 06/06 A3000 RMK AO2 RAE39 P0005 T00610061\n",
        "KSHN 041253Z AUTO 00000KT 3SM -RA BR OVC037 06/06 A3000 RMK AO2 SLP164 P0003 T00610061\n",
        "KSHN 041153Z AUTO 00000KT 6SM -RA BR SCT026 OVC041 07/07 A3002 RMK AO2 SLP167 P0003 60013 70062 T00720067 10078 20067 58003\n",
        "KSHN 041121Z AUTO 00000KT 8SM -RA BKN024 OVC060 07/06 A3002 RMK AO2 P0001 T00670061\n",
        "KSHN 041053Z AUTO 11003KT 9SM -RA FEW018 BKN055 OVC070 07/06 A3002 RMK AO2 SLP170 P0002 T00670061\n",
        "KSHN 040953Z AUTO 00000KT 10SM -RA FEW029 OVC039 07/07 A3003 RMK AO2 RAB0859 SLP173 P0002 T00670067\n",
        "KSHN 040853Z AUTO 17004KT 10SM FEW020 SCT024 OVC044 07/06 A3003 RMK AO2 RAE42 SLP172 P0001 60006 T00720061 53007\n",
        "KSHN 040753Z AUTO 15006KT 7SM -RA FEW019 SCT028 OVC039 07/07 A3002 RMK AO2 RAB09 SLP169 P0003 T00720067 400940000\n",
        "KSHN 040729Z AUTO 13005KT 6SM -RA BR FEW020 FEW028 OVC041 07/06 A3002 RMK AO2 RAB09 P0002 T00670061\n",
        "KSHN 040704Z AUTO 17005KT 10SM SCT020 BKN026 OVC080 08/07 A3001 RMK AO2 T00780067\n",
        "KSHN 040653Z AUTO 17005KT 10SM SCT024 BKN040 OVC080 08/07 A3001 RMK AO2 RAE19 SLP164 P0002 T00780067\n",
        "KSHN 040640Z AUTO 18006KT 10SM SCT020 SCT060 OVC085 08/07 A3001 RMK AO2 RAE19 P0002 T00780067\n",
        "KSHN 040553Z AUTO 19005KT 8SM -RA BKN016 BKN026 OVC033 08/07 A3000 RMK AO2 RAB09 SLP164 P0002 60023 T00780067 10083 20078 51020\n",
        "KSHN 040527Z AUTO 17008KT 8SM -RA FEW017 BKN024 OVC055 08/07 A3000 RMK AO2 RAB09 P0000 T00780067\n",
        "KSHN 040500Z AUTO 21009KT 10SM FEW017 SCT023 BKN060 08/06 A2999 RMK AO2 T00830061\n",
        "KSHN 040453Z AUTO 21009KT 10SM SCT016 BKN023 BKN031 08/06 A2999 RMK AO2 SLP159 T00830061\n",
        "KSHN 040353Z AUTO 23011KT 10SM BKN017 BKN024 OVC045 08/06 A2997 RMK AO2 PK WND 22026/0314 SLP153 T00780061\n",
        "KSHN 040341Z AUTO 23010G21KT 10SM SCT017 BKN029 OVC046 08/06 A2997 RMK AO2 PK WND 22026/0314 T00830061\n",
        "KSHN 040253Z AUTO 21013G31KT 10SM SCT019 SCT041 08/06 A2995 RMK AO2 PK WND 22031/0246 RAE19 SLP144 P0000 60021 T00780061 51015\n",
        "KSHN 040248Z AUTO 22015G31KT 10SM SCT019 SCT026 BKN041 08/06 A2994 RMK AO2 PK WND 22031/0246 RAE19 P0000\n",
        "KSHN 040224Z AUTO 22015G25KT 9SM SCT018 BKN025 OVC050 08/07 A2994 RMK AO2 PK WND 24029/0204 RAE19 P0000 T00780067\n",
        "KSHN 040153Z AUTO 22014G29KT 8SM -RA FEW015 SCT019 OVC041 08/06 A2993 RMK AO2 PK WND 21031/0104 SLP139 P0008 T00780061\n",
        "KSHN 040053Z AUTO 20014G20KT 4SM -RA BR FEW018 BKN022 OVC032 08/07 A2990 RMK AO2 PK WND 20039/0016 SLP129 P0013 T00780067\n",
        "KSHN 032353Z AUTO 20017G28KT 3SM -RA BR FEW012 SCT024 OVC031 08/06 A2988 RMK AO2 PK WND 18033/2311 SLP123 P0010 60026 T00780061 10094 20044 51016\n",
        "KSHN 032348Z AUTO 21016G28KT 3SM -RA BR FEW012 BKN026 OVC031 08/06 A2987 RMK AO2 PK WND 18033/2311 P0010\n",
        "KSHN 032253Z AUTO 18016G27KT 4SM RA BR FEW022 BKN037 OVC047 07/06 A2984 RMK AO2 PK WND 18027/2237 SLP110 P0012 T00720056\n",
        "KSHN 032242Z AUTO 18015G27KT 5SM -RA BR FEW018 BKN037 OVC047 07/05 A2984 RMK AO2 PK WND 18027/2237 P0011 T00720050\n",
        "KSHN 032153Z AUTO 17010G19KT 6SM -RA BR SCT023 BKN029 OVC040 07/05 A2983 RMK AO2 SLP106 P0003 T00720050\n",
        "KSHN 032144Z AUTO 17010KT 6SM -RA BR FEW022 BKN030 OVC039 07/05 A2983 RMK AO2 P0003 T00720050\n",
        "KSHN 032120Z AUTO 16011KT 8SM -RA BKN028 OVC033 07/05 A2983 RMK AO2 P0001 T00720050\n",
        "KSHN 032053Z AUTO 16012KT 7SM -RA FEW024 OVC032 07/04 A2983 RMK AO2 PK WND 17030/2001 RAB20 SLP105 P0001 60001 T00720044 56002\n",
        "KSHN 032044Z AUTO 17010KT 7SM -RA BKN027 OVC032 07/04 A2983 RMK AO2 PK WND 17030/2001 RAB20 P0001 T00720044\n",
        "KSHN 032037Z AUTO 18013G26KT 8SM -RA FEW023 OVC031 08/04 A2984 RMK AO2 PK WND 17030/2001 RAB20 P0000 T00780039\n",
        "KSHN 032028Z AUTO 18016G28KT 10SM -RA BKN029 OVC036 08/03 A2983 RMK AO2 PK WND 17030/2001 RAB20 P0000 T00780033\n",
        "KSHN 031953Z AUTO 16018G29KT 10SM BKN043 OVC070 09/02 A2983 RMK AO2 PK WND 16042/1908 SLP105 T00890017\n",
        "KSHN 031853Z AUTO 14019G32KT 10SM OVC050 09/01 A2982 RMK AO2 PK WND 17032/1852 RAB1756E12 SLP101 P0000 T00940006\n",
        "KSHN 031753Z AUTO 12003KT 10SM BKN060 OVC080 04/01 A2984 RMK AO2 SLP108 T00440006 10044 20006 53015\n",
        "KSHN 031653Z AUTO 00000KT 10SM BKN100 03/00 A2981 RMK AO2 SLP098 T00330000\n",
        "KSHN 031553Z AUTO 00000KT 10SM SCT120 02/M01 A2981 RMK AO2 SLP098 T00221006\n",
        "KSHN 031453Z AUTO 00000KT 10SM OVC120 02/M01 A2979 RMK AO2 SLP093 T00221006 56022\n",
        "KSHN 031353Z AUTO 00000KT 10SM OVC100 03/M01 A2979 RMK AO2 SLP094 T00281006\n",
        "KSHN 031253Z AUTO 34004KT 10SM BKN110 02/M01 A2984 RMK AO2 PRESFR SLP108 T00221006\n",
        "KSHN 031153Z AUTO 00000KT 10SM CLR 01/M01 A2986 RMK AO2 SLP114 T00061011 10056 20000 58018\n",
        "KSHN 031053Z AUTO 23003KT 10SM CLR 01/M01 A2987 RMK AO2 SLP120 T00111006\n",
        "KSHN 030953Z AUTO 08005KT 10SM BKN110 04/00 A2989 RMK AO2 SLP126 T00390000\n",
        "KSHN 030853Z AUTO 34008KT 10SM BKN110 06/M01 A2991 RMK AO2 SLP132 T00561006 58033\n",
        "KSHN 030753Z AUTO 35003KT 10SM CLR 01/M01 A2996 RMK AO2 SLP150 T00061011 401001056\n",
        "KSHN 030653Z AUTO 33003KT 10SM CLR 01/M01 A2998 RMK AO2 SLP156 T00111006\n",
        "KSHN 030553Z AUTO 00000KT 10SM FEW120 01/M01 A3001 RMK AO2 SLP166 T00111011 10089 20006 58016\n",
        "KSHN 030453Z AUTO 00000KT 10SM CLR 01/M01 A3004 RMK AO2 SLP177 T00111011\n",
        "KSHN 030353Z AUTO 00000KT 10SM BKN100 OVC110 02/M01 A3004 RMK AO2 SLP181 T00171011\n",
        "KSHN 030253Z AUTO 00000KT 10SM CLR 01/M02 A3005 RMK AO2 SLP183 T00111017 56012\n",
        "KSHN 030153Z AUTO 00000KT 10SM CLR 03/M01 A3006 RMK AO2 SLP186 T00331006\n",
        "KSHN 030053Z AUTO 00000KT 10SM CLR 07/M02 A3007 RMK AO2 SLP189 T00721022\n",
        "KSHN 022353Z AUTO 10004KT 10SM CLR 09/M03 A3009 RMK AO2 SLP193 T00891028 10100 20006 56010\n",
        "KSHN 022253Z AUTO 11004KT 10SM CLR 09/M02 A3009 RMK AO2 SLP193 T00941022\n",
        "KSHN 022153Z AUTO 10005KT 10SM CLR 09/M02 A3010 RMK AO2 SLP197 T00941017\n",
        "KSHN 022053Z AUTO 09005KT 10SM CLR 08/M01 A3012 RMK AO2 SLP203 T00831011 58010\n",
        "KSHN 021953Z AUTO 11004KT 10SM CLR 08/M02 A3013 RMK AO2 SLP208 T00781017\n",
        "KSHN 021853Z AUTO 00000KT 10SM CLR 04/01 A3014 RMK AO2 SLP214 T00440006\n",
        "KSHN 021753Z AUTO 00000KT 10SM CLR 01/M01 A3015 RMK AO2 SLP215 I6001 T00061006 10006 21056 53010\n",
        "KSHN 021653Z AUTO 00000KT 10SM CLR M02/M03 A3013 RMK AO2 SLP209 I1001 T10171028\n",
        "KSHN 021553Z AUTO 00000KT 10SM CLR M04/M05 A3012 RMK AO2 SLP208 I1000 T10441050\n",
        "KSHN 021453Z AUTO 00000KT 10SM CLR M05/M06 A3012 RMK AO2 SLP205 I1000 I3000 T10501056 55001 $\n",
        "KSHN 021353Z AUTO 00000KT 10SM CLR M03/M04 A3011 RMK AO2 SLP203 I1000 T10331039\n",
        "KSHN 021325Z AUTO 00000KT 10SM FEW001 M03/M04 A3011 RMK AO2 T10331044\n",
        "KSHN 021253Z AUTO 00000KT 10SM CLR M04/M04 A3011 RMK AO2 SLP203 I1000 T10391044\n",
        "KSHN 021153Z AUTO 00000KT 10SM CLR M04/M05 A3012 RMK AO2 SLP204 I1000 I6001 T10391050 11017 21044 50002\n",
        "KSHN 021053Z AUTO 24003KT 10SM CLR M04/M04 A3012 RMK AO2 SLP205 I1000 T10391044\n",
        "KSHN 020953Z AUTO 30003KT 3SM BR CLR M04/M05 A3012 RMK AO2 SLP205 I1000 T10391050\n",
        "KSHN 020951Z AUTO 28003KT 2 1/2SM BR CLR M04/M04 A3012 RMK AO2 VIS 1V5 I1000\n",
        "KSHN 020941Z AUTO 00000KT 3/4SM BR CLR M04/M04 A3012 RMK AO2 I1000 T10391044\n",
        "KSHN 020924Z AUTO 00000KT 1 3/4SM BR CLR M03/M04 A3012 RMK AO2 T10331039\n",
        "KSHN 020909Z AUTO 00000KT 3SM BR CLR M03/M04 A3011 RMK AO2 T10331044\n",
        "KSHN 020853Z AUTO 00000KT 1SM BR CLR M03/M04 A3011 RMK AO2 VIS 1/2V2 1/2 SLP202 I1001 I3001 T10331039 50000\n",
        "KSHN 020846Z AUTO 00000KT 1 3/4SM BR CLR M03/M04 A3011 RMK AO2 I1001 T10331044\n",
        "KSHN 020753Z AUTO 00000KT 8SM CLR M03/M03 A3012 RMK AO2 SLP205 T10281033 400891033\n",
        "KSHN 020747Z AUTO 00000KT 3SM BR CLR M03/M03 A3012 RMK AO2\n",
        "KSHN 020735Z AUTO 00000KT 1 3/4SM BR CLR M03/M04 A3013 RMK AO2 T10331039\n",
        "KSHN 020653Z AUTO 00000KT 10SM CLR M03/M03 A3012 RMK AO2 SLP205 T10281033\n",
        "KSHN 020553Z AUTO 00000KT 9SM CLR M03/M03 A3011 RMK AO2 SLP204 T10281028 10089 21028 52004\n",
        "KSHN 020453Z AUTO 00000KT 10SM CLR M03/M03 A3011 RMK AO2 SLP203 T10281033\n",
        "KSHN 020353Z AUTO 00000KT 10SM CLR M01/M02 A3010 RMK AO2 SLP201 T10111022\n",
        "KSHN 020253Z AUTO 36003KT 10SM CLR 02/M01 A3010 RMK AO2 SLP199 T00171006 55000\n",
        "KSHN 020153Z AUTO 00000KT 10SM CLR 02/M01 A3009 RMK AO2 SLP195 T00171006\n",
        "KSHN 020053Z AUTO 00000KT 10SM CLR 07/00 A3009 RMK AO2 SLP195 T00720000\n",
        "KSHN 012353Z AUTO 00000KT 10SM CLR 09/00 A3010 RMK AO2 SLP198 T00890000 10089 20017 55003\n",
        "KSHN 012253Z AUTO 12004KT 10SM CLR 08/01 A3010 RMK AO2 SLP196 T00830006\n",
        "KSHN 012153Z AUTO 11004KT 10SM CLR 08/01 A3010 RMK AO2 SLP197 T00830006\n",
        "KSHN 012053Z AUTO 14003KT 10SM CLR 07/01 A3011 RMK AO2 SLP201 T00720006 58005\n",
        "KSHN 011953Z AUTO 00000KT 10SM CLR 06/00 A3013 RMK AO2 SLP206 T00560000\n",
        "KSHN 011853Z AUTO 00000KT 10SM CLR 04/M01 A3013 RMK AO2 SLP210 T00391011\n",
        "KSHN 011753Z AUTO 00000KT 10SM CLR 02/M01 A3013 RMK AO2 SLP208 T00171011 10017 21006 52001\n",
        "KSHN 011653Z AUTO 00000KT 10SM BKN035 01/M01 A3013 RMK AO2 SLP208 T00111006\n",
        "KSHN 011553Z AUTO 00000KT 10SM OVC038 M01/M01 A3012 RMK AO2 SLP208 T10061011\n",
        "KSHN 011453Z AUTO 00000KT 10SM OVC039 M01/M01 A3012 RMK AO2 SLP207 T10061011 55005\n",
        "KSHN 011353Z AUTO 00000KT 10SM BKN040 00/M01 A3012 RMK AO2 SLP204 T00001011\n",
        "KSHN 011253Z AUTO 00000KT 10SM OVC038 M01/M01 A3013 RMK AO2 SLP208 T10061011\n",
        "KSHN 011153Z AUTO 00000KT 10SM OVC039 M01/M01 A3014 RMK AO2 SLP211 T10061011 10006 21011 50000\n",
        "KSHN 011053Z AUTO 00000KT 10SM SCT029 SCT044 M01/M02 A3014 RMK AO2 SLP211 T10061017\n",
        "KSHN 011049Z AUTO 00000KT 10SM SCT029 00/M02 A3014 RMK AO2\n",
        "KSHN 011041Z AUTO 00000KT 10SM BKN029 BKN040 00/M02 A3014 RMK AO2 T00001017\n",
        "KSHN 011003Z AUTO 00000KT 10SM FEW030 OVC040 00/M02 A3014 RMK AO2 T00001017\n",
        "KSHN 010953Z AUTO 00000KT 10SM BKN029 BKN035 OVC042 00/M02 A3014 RMK AO2 SLP211 T00001017\n",
        "KSHN 010853Z AUTO 00000KT 10SM FEW030 OVC040 00/M02 A3013 RMK AO2 SLP210 T00001017 58001\n",
        "KSHN 010753Z AUTO 36003KT 10SM OVC037 00/M02 A3014 RMK AO2 SLP213 T00001017 400441044\n",
        "KSHN 010653Z AUTO 00000KT 10SM OVC037 M01/M02 A3015 RMK AO2 SLP214 T10061017\n",
        "KSHN 010553Z AUTO 00000KT 10SM BKN037 M01/M02 A3014 RMK AO2 SLP211 T10111022 10044 21011 58001\n",
        "KSHN 010453Z AUTO 00000KT 10SM CLR M01/M02 A3014 RMK AO2 SLP213 T10111022\n",
        "KSHN 010353Z AUTO 23003KT 10SM SCT110 M01/M02 A3014 RMK AO2 SLP214 T10061022\n",
        "KSHN 010253Z AUTO 00000KT 10SM FEW110 01/M02 A3014 RMK AO2 SLP212 T00111017 56012\n",
        "KSHN 010153Z AUTO 00000KT 10SM BKN100 02/M02 A3015 RMK AO2 SLP215 T00171017\n",
        "\"\"\"\n"
      ],
      "metadata": {
        "id": "gdmiKrr4T4Yw"
      },
      "execution_count": 67,
      "outputs": []
    },
    {
      "cell_type": "code",
      "source": [
        "raw_data = \"\"\"\\\n",
        "KSHN 060053Z AUTO 24016G23KT 10SM CLR 08/06 A2998 RMK AO2 PK WND 24027/0019 SLP155 T00780056\n",
        "KSHN 052353Z AUTO 24014KT 10SM FEW016 BKN080 10/07 A2994 RMK AO2 SLP141 60002 T01000072 10106 20072 53022\n",
        "KSHN 052253Z AUTO 24016G20KT 10SM FEW015 SCT065 OVC080 09/07 A2990 RMK AO2 SLP127 T00940072\n",
        "KSHN 052241Z AUTO 23014KT 10SM FEW012 BKN070 OVC080 10/07 A2990 RMK AO2 T01000072\n",
        "KSHN 052200Z AUTO 21009KT 10SM FEW009 SCT012 BKN020 10/08 A2988 RMK AO2 T01000078\n",
        "KSHN 052153Z AUTO 21009KT 10SM SCT011 BKN065 BKN100 10/08 A2988 RMK AO2 RAE04 SLP119 P0000 T01000083\n",
        "KSHN 052150Z AUTO 20009KT 10SM FEW007 BKN065 BKN100 10/08 A2987 RMK AO2 RAE04 P0000\n",
        "KSHN 052122Z AUTO 19006KT 10SM FEW027 OVC070 09/08 A2987 RMK AO2 RAE04 P0000 T00940078\n",
        "KSHN 052102Z AUTO 22005KT 10SM -RA SCT011 OVC029 09/07 A2987 RMK AO2 P0000 T00940072\n",
        "KSHN 052053Z AUTO 24004KT 10SM -RA BKN011 OVC030 09/08 A2987 RMK AO2 RAB53 SLP116 P0000 60002 T00940078 53015\n",
        "KSHN 052035Z AUTO 13003KT 10SM BKN011 BKN021 OVC027 09/08 A2986 RMK AO2 CIG 007V014 T00890078\n",
        "KSHN 052015Z AUTO 00000KT 10SM SCT009 BKN016 OVC025 09/07 A2985 RMK AO2 CIG 013V022 T00890072\n",
        "KSHN 051953Z AUTO 00000KT 10SM BKN009 OVC070 09/07 A2984 RMK AO2 RAE02 SLP109 P0000 T00890072\n",
        "KSHN 051902Z AUTO 00000KT 10SM FEW006 BKN031 OVC065 08/07 A2983 RMK AO2 RAE02 P0000 T00830072\n",
        "KSHN 051853Z AUTO 00000KT 10SM -RA FEW023 BKN031 OVC060 08/07 A2982 RMK AO2 SLP102 P0002 T00830072\n",
        "KSHN 051848Z AUTO 00000KT 10SM -RA SCT025 BKN031 OVC055 08/07 A2982 RMK AO2 P0002\n",
        "KSHN 051804Z AUTO 00000KT 10SM -RA BKN025 OVC035 07/07 A2980 RMK AO2 P0001 T00720067\n",
        "KSHN 051753Z AUTO 00000KT 9SM -RA FEW024 SCT030 OVC035 07/07 A2979 RMK AO2 SLP093 P0004 60023 T00720067 10072 20044 51039\n",
        "KSHN 051653Z AUTO 00000KT 5SM -RA BR OVC037 06/06 A2976 RMK AO2 SLP081 P0008 T00610061\n",
        "\"\"\""
      ],
      "metadata": {
        "id": "-i3yMgTHefht"
      },
      "execution_count": 51,
      "outputs": []
    },
    {
      "cell_type": "code",
      "source": [
        "from metar import Metar\n",
        "import pandas as pd\n",
        "\n",
        "DT_list = []\n",
        "precip_1hr = []\n",
        "precip_24hr = []\n",
        "precip_3hr = []\n",
        "precip_6hr = []\n",
        "\n",
        "raw_data_splitlines = raw_data.splitlines()\n",
        "for rawtxt in raw_data_splitlines:\n",
        "  #print (rawtxt)\n",
        "  par_text = Metar.Metar(rawtxt)\n",
        "  DT_list.append(par_text.time)\n",
        "  precip_1hr.append(str(par_text.precip_1hr).split(\"in\")[0])\n",
        "  precip_24hr.append(str(par_text.precip_24hr).split(\"in\")[0])\n",
        "  precip_3hr.append(str(par_text.precip_3hr).split(\"in\")[0])\n",
        "  precip_6hr.append(str(par_text.precip_6hr).split(\"in\")[0])\n",
        "\n",
        "#precip_1hr_ = [None if i == \"None\" else float(i) for i in precip_1hr]\n",
        "precip_1hr_ = [0 if i == \"None\" else float(i) for i in precip_1hr]\n",
        "precip_3hr_ = [0 if i == \"None\" else float(i) for i in precip_3hr]\n",
        "precip_6hr_ = [0 if i == \"None\" else float(i) for i in precip_6hr]\n",
        "precip_24hr_ = [0 if i == \"None\" else float(i) for i in precip_24hr]\n",
        "\n",
        "output_df = pd.DataFrame({'DateTime': DT_list,\n",
        "                          'Precip_1hr_in': precip_1hr_,\n",
        "                          'Precip_3hr_in': precip_3hr_,\n",
        "                          'Precip_6hr_in': precip_6hr_,\n",
        "                          'Precip_24hr_in': precip_24hr_,\n",
        "                          })\n",
        "\n",
        "output_df = output_df.sort_values(by='DateTime')\n",
        "\n",
        "# Resampled\n",
        "output_df_rs = output_df.set_index('DateTime').resample('H').mean().interpolate('linear')\n"
      ],
      "metadata": {
        "id": "YaPM_aYsZSgZ"
      },
      "execution_count": 162,
      "outputs": []
    },
    {
      "cell_type": "code",
      "source": [
        "#output_df_rs"
      ],
      "metadata": {
        "id": "hH2VGWbCcmI1"
      },
      "execution_count": 169,
      "outputs": []
    },
    {
      "cell_type": "code",
      "source": [
        "import plotly.express as px\n",
        "fig = px.line(output_df, x = 'DateTime',y = output_df.columns, markers=False, title = 'Precip')\n",
        "fig.show()\n"
      ],
      "metadata": {
        "colab": {
          "base_uri": "https://localhost:8080/",
          "height": 542
        },
        "id": "2mbzqUd7cn77",
        "outputId": "3295d18e-d052-4e73-8d4f-e7f6a32cf189"
      },
      "execution_count": 170,
      "outputs": [
        {
          "output_type": "display_data",
          "data": {
            "text/html": [
              "<html>\n",
              "<head><meta charset=\"utf-8\" /></head>\n",
              "<body>\n",
              "    <div>            <script src=\"https://cdnjs.cloudflare.com/ajax/libs/mathjax/2.7.5/MathJax.js?config=TeX-AMS-MML_SVG\"></script><script type=\"text/javascript\">if (window.MathJax) {MathJax.Hub.Config({SVG: {font: \"STIX-Web\"}});}</script>                <script type=\"text/javascript\">window.PlotlyConfig = {MathJaxConfig: 'local'};</script>\n",
              "        <script src=\"https://cdn.plot.ly/plotly-2.8.3.min.js\"></script>                <div id=\"4c568707-7a30-4c53-89e1-3a58aaabe299\" class=\"plotly-graph-div\" style=\"height:525px; width:100%;\"></div>            <script type=\"text/javascript\">                                    window.PLOTLYENV=window.PLOTLYENV || {};                                    if (document.getElementById(\"4c568707-7a30-4c53-89e1-3a58aaabe299\")) {                    Plotly.newPlot(                        \"4c568707-7a30-4c53-89e1-3a58aaabe299\",                        [{\"hovertemplate\":\"variable=Precip_1hr_in<br>DateTime=%{x}<br>value=%{y}<extra></extra>\",\"legendgroup\":\"Precip_1hr_in\",\"line\":{\"color\":\"#636efa\",\"dash\":\"solid\"},\"marker\":{\"symbol\":\"circle\"},\"mode\":\"lines\",\"name\":\"Precip_1hr_in\",\"orientation\":\"v\",\"showlegend\":true,\"x\":[\"2023-02-01T01:53:00\",\"2023-02-01T02:53:00\",\"2023-02-01T03:53:00\",\"2023-02-01T04:53:00\",\"2023-02-01T05:53:00\",\"2023-02-01T06:53:00\",\"2023-02-01T07:53:00\",\"2023-02-01T08:53:00\",\"2023-02-01T09:53:00\",\"2023-02-01T10:03:00\",\"2023-02-01T10:41:00\",\"2023-02-01T10:49:00\",\"2023-02-01T10:53:00\",\"2023-02-01T11:53:00\",\"2023-02-01T12:53:00\",\"2023-02-01T13:53:00\",\"2023-02-01T14:53:00\",\"2023-02-01T15:53:00\",\"2023-02-01T16:53:00\",\"2023-02-01T17:53:00\",\"2023-02-01T18:53:00\",\"2023-02-01T19:53:00\",\"2023-02-01T20:53:00\",\"2023-02-01T21:53:00\",\"2023-02-01T22:53:00\",\"2023-02-01T23:53:00\",\"2023-02-02T00:53:00\",\"2023-02-02T01:53:00\",\"2023-02-02T02:53:00\",\"2023-02-02T03:53:00\",\"2023-02-02T04:53:00\",\"2023-02-02T05:53:00\",\"2023-02-02T06:53:00\",\"2023-02-02T07:35:00\",\"2023-02-02T07:47:00\",\"2023-02-02T07:53:00\",\"2023-02-02T08:46:00\",\"2023-02-02T08:53:00\",\"2023-02-02T09:09:00\",\"2023-02-02T09:24:00\",\"2023-02-02T09:41:00\",\"2023-02-02T09:51:00\",\"2023-02-02T09:53:00\",\"2023-02-02T10:53:00\",\"2023-02-02T11:53:00\",\"2023-02-02T12:53:00\",\"2023-02-02T13:25:00\",\"2023-02-02T13:53:00\",\"2023-02-02T14:53:00\",\"2023-02-02T15:53:00\",\"2023-02-02T16:53:00\",\"2023-02-02T17:53:00\",\"2023-02-02T18:53:00\",\"2023-02-02T19:53:00\",\"2023-02-02T20:53:00\",\"2023-02-02T21:53:00\",\"2023-02-02T22:53:00\",\"2023-02-02T23:53:00\",\"2023-02-03T00:53:00\",\"2023-02-03T01:53:00\",\"2023-02-03T02:53:00\",\"2023-02-03T03:53:00\",\"2023-02-03T04:53:00\",\"2023-02-03T05:53:00\",\"2023-02-03T06:53:00\",\"2023-02-03T07:53:00\",\"2023-02-03T08:53:00\",\"2023-02-03T09:53:00\",\"2023-02-03T10:53:00\",\"2023-02-03T11:53:00\",\"2023-02-03T12:53:00\",\"2023-02-03T13:53:00\",\"2023-02-03T14:53:00\",\"2023-02-03T15:53:00\",\"2023-02-03T16:53:00\",\"2023-02-03T17:53:00\",\"2023-02-03T18:53:00\",\"2023-02-03T19:53:00\",\"2023-02-03T20:28:00\",\"2023-02-03T20:37:00\",\"2023-02-03T20:44:00\",\"2023-02-03T20:53:00\",\"2023-02-03T21:20:00\",\"2023-02-03T21:44:00\",\"2023-02-03T21:53:00\",\"2023-02-03T22:42:00\",\"2023-02-03T22:53:00\",\"2023-02-03T23:48:00\",\"2023-02-03T23:53:00\",\"2023-02-04T00:53:00\",\"2023-02-04T01:53:00\",\"2023-02-04T02:24:00\",\"2023-02-04T02:48:00\",\"2023-02-04T02:53:00\",\"2023-02-04T03:41:00\",\"2023-02-04T03:53:00\",\"2023-02-04T04:53:00\",\"2023-02-04T05:00:00\",\"2023-02-04T05:27:00\",\"2023-02-04T05:53:00\",\"2023-02-04T06:40:00\",\"2023-02-04T06:53:00\",\"2023-02-04T07:04:00\",\"2023-02-04T07:29:00\",\"2023-02-04T07:53:00\",\"2023-02-04T08:53:00\",\"2023-02-04T09:53:00\",\"2023-02-04T10:53:00\",\"2023-02-04T11:21:00\",\"2023-02-04T11:53:00\",\"2023-02-04T12:53:00\",\"2023-02-04T13:39:00\",\"2023-02-04T13:53:00\",\"2023-02-04T14:06:00\",\"2023-02-04T14:14:00\",\"2023-02-04T14:53:00\",\"2023-02-04T15:06:00\",\"2023-02-04T15:19:00\",\"2023-02-04T15:42:00\",\"2023-02-04T15:53:00\",\"2023-02-04T15:56:00\",\"2023-02-04T16:53:00\",\"2023-02-04T17:53:00\",\"2023-02-04T18:53:00\",\"2023-02-04T19:53:00\",\"2023-02-04T20:53:00\",\"2023-02-04T21:53:00\",\"2023-02-04T22:03:00\",\"2023-02-04T22:53:00\",\"2023-02-04T23:53:00\",\"2023-02-05T00:53:00\",\"2023-02-05T01:53:00\",\"2023-02-05T02:19:00\",\"2023-02-05T02:53:00\",\"2023-02-05T03:53:00\",\"2023-02-05T04:53:00\",\"2023-02-05T05:53:00\",\"2023-02-05T06:53:00\",\"2023-02-05T07:53:00\",\"2023-02-05T08:53:00\",\"2023-02-05T09:53:00\",\"2023-02-05T10:53:00\",\"2023-02-05T11:53:00\",\"2023-02-05T12:53:00\",\"2023-02-05T13:53:00\",\"2023-02-05T14:53:00\",\"2023-02-05T15:53:00\",\"2023-02-05T16:53:00\",\"2023-02-05T17:53:00\",\"2023-02-05T18:04:00\",\"2023-02-05T18:48:00\",\"2023-02-05T18:53:00\",\"2023-02-05T19:02:00\",\"2023-02-05T19:53:00\",\"2023-02-05T20:15:00\",\"2023-02-05T20:35:00\",\"2023-02-05T20:53:00\",\"2023-02-05T21:02:00\",\"2023-02-05T21:22:00\",\"2023-02-05T21:50:00\",\"2023-02-05T21:53:00\",\"2023-02-05T22:00:00\",\"2023-02-05T22:41:00\",\"2023-02-05T22:53:00\",\"2023-02-05T23:53:00\",\"2023-02-06T00:53:00\"],\"xaxis\":\"x\",\"y\":[0.0,0.0,0.0,0.0,0.0,0.0,0.0,0.0,0.0,0.0,0.0,0.0,0.0,0.0,0.0,0.0,0.0,0.0,0.0,0.0,0.0,0.0,0.0,0.0,0.0,0.0,0.0,0.0,0.0,0.0,0.0,0.0,0.0,0.0,0.0,0.0,0.0,0.0,0.0,0.0,0.0,0.0,0.0,0.0,0.0,0.0,0.0,0.0,0.0,0.0,0.0,0.0,0.0,0.0,0.0,0.0,0.0,0.0,0.0,0.0,0.0,0.0,0.0,0.0,0.0,0.0,0.0,0.0,0.0,0.0,0.0,0.0,0.0,0.0,0.0,0.0,0.0,0.0,0.0,0.0,0.01,0.01,0.01,0.03,0.03,0.11,0.12,0.1,0.1,0.13,0.08,0.0,0.0,0.0,0.0,0.0,0.0,0.0,0.0,0.02,0.02,0.02,0.0,0.02,0.03,0.01,0.02,0.02,0.01,0.03,0.03,0.05,0.05,0.0,0.0,0.0,0.0,0.0,0.0,0.0,0.0,0.0,0.0,0.01,0.03,0.02,0.0,0.0,0.0,0.0,0.02,0.01,0.02,0.06,0.02,0.02,0.0,0.0,0.0,0.0,0.0,0.0,0.0,0.01,0.02,0.03,0.05,0.08,0.04,0.01,0.02,0.02,0.0,0.0,0.0,0.0,0.0,0.0,0.0,0.0,0.0,0.0,0.0,0.0,0.0,0.0],\"yaxis\":\"y\",\"type\":\"scatter\"},{\"hovertemplate\":\"variable=Precip_3hr_in<br>DateTime=%{x}<br>value=%{y}<extra></extra>\",\"legendgroup\":\"Precip_3hr_in\",\"line\":{\"color\":\"#EF553B\",\"dash\":\"solid\"},\"marker\":{\"symbol\":\"circle\"},\"mode\":\"lines\",\"name\":\"Precip_3hr_in\",\"orientation\":\"v\",\"showlegend\":true,\"x\":[\"2023-02-01T01:53:00\",\"2023-02-01T02:53:00\",\"2023-02-01T03:53:00\",\"2023-02-01T04:53:00\",\"2023-02-01T05:53:00\",\"2023-02-01T06:53:00\",\"2023-02-01T07:53:00\",\"2023-02-01T08:53:00\",\"2023-02-01T09:53:00\",\"2023-02-01T10:03:00\",\"2023-02-01T10:41:00\",\"2023-02-01T10:49:00\",\"2023-02-01T10:53:00\",\"2023-02-01T11:53:00\",\"2023-02-01T12:53:00\",\"2023-02-01T13:53:00\",\"2023-02-01T14:53:00\",\"2023-02-01T15:53:00\",\"2023-02-01T16:53:00\",\"2023-02-01T17:53:00\",\"2023-02-01T18:53:00\",\"2023-02-01T19:53:00\",\"2023-02-01T20:53:00\",\"2023-02-01T21:53:00\",\"2023-02-01T22:53:00\",\"2023-02-01T23:53:00\",\"2023-02-02T00:53:00\",\"2023-02-02T01:53:00\",\"2023-02-02T02:53:00\",\"2023-02-02T03:53:00\",\"2023-02-02T04:53:00\",\"2023-02-02T05:53:00\",\"2023-02-02T06:53:00\",\"2023-02-02T07:35:00\",\"2023-02-02T07:47:00\",\"2023-02-02T07:53:00\",\"2023-02-02T08:46:00\",\"2023-02-02T08:53:00\",\"2023-02-02T09:09:00\",\"2023-02-02T09:24:00\",\"2023-02-02T09:41:00\",\"2023-02-02T09:51:00\",\"2023-02-02T09:53:00\",\"2023-02-02T10:53:00\",\"2023-02-02T11:53:00\",\"2023-02-02T12:53:00\",\"2023-02-02T13:25:00\",\"2023-02-02T13:53:00\",\"2023-02-02T14:53:00\",\"2023-02-02T15:53:00\",\"2023-02-02T16:53:00\",\"2023-02-02T17:53:00\",\"2023-02-02T18:53:00\",\"2023-02-02T19:53:00\",\"2023-02-02T20:53:00\",\"2023-02-02T21:53:00\",\"2023-02-02T22:53:00\",\"2023-02-02T23:53:00\",\"2023-02-03T00:53:00\",\"2023-02-03T01:53:00\",\"2023-02-03T02:53:00\",\"2023-02-03T03:53:00\",\"2023-02-03T04:53:00\",\"2023-02-03T05:53:00\",\"2023-02-03T06:53:00\",\"2023-02-03T07:53:00\",\"2023-02-03T08:53:00\",\"2023-02-03T09:53:00\",\"2023-02-03T10:53:00\",\"2023-02-03T11:53:00\",\"2023-02-03T12:53:00\",\"2023-02-03T13:53:00\",\"2023-02-03T14:53:00\",\"2023-02-03T15:53:00\",\"2023-02-03T16:53:00\",\"2023-02-03T17:53:00\",\"2023-02-03T18:53:00\",\"2023-02-03T19:53:00\",\"2023-02-03T20:28:00\",\"2023-02-03T20:37:00\",\"2023-02-03T20:44:00\",\"2023-02-03T20:53:00\",\"2023-02-03T21:20:00\",\"2023-02-03T21:44:00\",\"2023-02-03T21:53:00\",\"2023-02-03T22:42:00\",\"2023-02-03T22:53:00\",\"2023-02-03T23:48:00\",\"2023-02-03T23:53:00\",\"2023-02-04T00:53:00\",\"2023-02-04T01:53:00\",\"2023-02-04T02:24:00\",\"2023-02-04T02:48:00\",\"2023-02-04T02:53:00\",\"2023-02-04T03:41:00\",\"2023-02-04T03:53:00\",\"2023-02-04T04:53:00\",\"2023-02-04T05:00:00\",\"2023-02-04T05:27:00\",\"2023-02-04T05:53:00\",\"2023-02-04T06:40:00\",\"2023-02-04T06:53:00\",\"2023-02-04T07:04:00\",\"2023-02-04T07:29:00\",\"2023-02-04T07:53:00\",\"2023-02-04T08:53:00\",\"2023-02-04T09:53:00\",\"2023-02-04T10:53:00\",\"2023-02-04T11:21:00\",\"2023-02-04T11:53:00\",\"2023-02-04T12:53:00\",\"2023-02-04T13:39:00\",\"2023-02-04T13:53:00\",\"2023-02-04T14:06:00\",\"2023-02-04T14:14:00\",\"2023-02-04T14:53:00\",\"2023-02-04T15:06:00\",\"2023-02-04T15:19:00\",\"2023-02-04T15:42:00\",\"2023-02-04T15:53:00\",\"2023-02-04T15:56:00\",\"2023-02-04T16:53:00\",\"2023-02-04T17:53:00\",\"2023-02-04T18:53:00\",\"2023-02-04T19:53:00\",\"2023-02-04T20:53:00\",\"2023-02-04T21:53:00\",\"2023-02-04T22:03:00\",\"2023-02-04T22:53:00\",\"2023-02-04T23:53:00\",\"2023-02-05T00:53:00\",\"2023-02-05T01:53:00\",\"2023-02-05T02:19:00\",\"2023-02-05T02:53:00\",\"2023-02-05T03:53:00\",\"2023-02-05T04:53:00\",\"2023-02-05T05:53:00\",\"2023-02-05T06:53:00\",\"2023-02-05T07:53:00\",\"2023-02-05T08:53:00\",\"2023-02-05T09:53:00\",\"2023-02-05T10:53:00\",\"2023-02-05T11:53:00\",\"2023-02-05T12:53:00\",\"2023-02-05T13:53:00\",\"2023-02-05T14:53:00\",\"2023-02-05T15:53:00\",\"2023-02-05T16:53:00\",\"2023-02-05T17:53:00\",\"2023-02-05T18:04:00\",\"2023-02-05T18:48:00\",\"2023-02-05T18:53:00\",\"2023-02-05T19:02:00\",\"2023-02-05T19:53:00\",\"2023-02-05T20:15:00\",\"2023-02-05T20:35:00\",\"2023-02-05T20:53:00\",\"2023-02-05T21:02:00\",\"2023-02-05T21:22:00\",\"2023-02-05T21:50:00\",\"2023-02-05T21:53:00\",\"2023-02-05T22:00:00\",\"2023-02-05T22:41:00\",\"2023-02-05T22:53:00\",\"2023-02-05T23:53:00\",\"2023-02-06T00:53:00\"],\"xaxis\":\"x\",\"y\":[0.0,0.0,0.0,0.0,0.0,0.0,0.0,0.0,0.0,0.0,0.0,0.0,0.0,0.0,0.0,0.0,0.0,0.0,0.0,0.0,0.0,0.0,0.0,0.0,0.0,0.0,0.0,0.0,0.0,0.0,0.0,0.0,0.0,0.0,0.0,0.0,0.0,0.0,0.0,0.0,0.0,0.0,0.0,0.0,0.0,0.0,0.0,0.0,0.0,0.0,0.0,0.0,0.0,0.0,0.0,0.0,0.0,0.0,0.0,0.0,0.0,0.0,0.0,0.0,0.0,0.0,0.0,0.0,0.0,0.0,0.0,0.0,0.0,0.0,0.0,0.0,0.0,0.0,0.0,0.0,0.0,0.01,0.0,0.0,0.0,0.0,0.0,0.0,0.0,0.0,0.0,0.0,0.0,0.21,0.0,0.0,0.0,0.0,0.0,0.0,0.0,0.0,0.0,0.0,0.0,0.06,0.0,0.0,0.0,0.0,0.0,0.0,0.0,0.0,0.0,0.08,0.0,0.0,0.0,0.0,0.0,0.0,0.0,0.0,0.0,0.06,0.0,0.0,0.0,0.0,0.0,0.0,0.0,0.09,0.0,0.0,0.0,0.0,0.0,0.0,0.0,0.0,0.0,0.0,0.0,0.06,0.0,0.0,0.0,0.0,0.0,0.0,0.0,0.0,0.0,0.0,0.02,0.0,0.0,0.0,0.0,0.0,0.0,0.0,0.0,0.0],\"yaxis\":\"y\",\"type\":\"scatter\"},{\"hovertemplate\":\"variable=Precip_6hr_in<br>DateTime=%{x}<br>value=%{y}<extra></extra>\",\"legendgroup\":\"Precip_6hr_in\",\"line\":{\"color\":\"#00cc96\",\"dash\":\"solid\"},\"marker\":{\"symbol\":\"circle\"},\"mode\":\"lines\",\"name\":\"Precip_6hr_in\",\"orientation\":\"v\",\"showlegend\":true,\"x\":[\"2023-02-01T01:53:00\",\"2023-02-01T02:53:00\",\"2023-02-01T03:53:00\",\"2023-02-01T04:53:00\",\"2023-02-01T05:53:00\",\"2023-02-01T06:53:00\",\"2023-02-01T07:53:00\",\"2023-02-01T08:53:00\",\"2023-02-01T09:53:00\",\"2023-02-01T10:03:00\",\"2023-02-01T10:41:00\",\"2023-02-01T10:49:00\",\"2023-02-01T10:53:00\",\"2023-02-01T11:53:00\",\"2023-02-01T12:53:00\",\"2023-02-01T13:53:00\",\"2023-02-01T14:53:00\",\"2023-02-01T15:53:00\",\"2023-02-01T16:53:00\",\"2023-02-01T17:53:00\",\"2023-02-01T18:53:00\",\"2023-02-01T19:53:00\",\"2023-02-01T20:53:00\",\"2023-02-01T21:53:00\",\"2023-02-01T22:53:00\",\"2023-02-01T23:53:00\",\"2023-02-02T00:53:00\",\"2023-02-02T01:53:00\",\"2023-02-02T02:53:00\",\"2023-02-02T03:53:00\",\"2023-02-02T04:53:00\",\"2023-02-02T05:53:00\",\"2023-02-02T06:53:00\",\"2023-02-02T07:35:00\",\"2023-02-02T07:47:00\",\"2023-02-02T07:53:00\",\"2023-02-02T08:46:00\",\"2023-02-02T08:53:00\",\"2023-02-02T09:09:00\",\"2023-02-02T09:24:00\",\"2023-02-02T09:41:00\",\"2023-02-02T09:51:00\",\"2023-02-02T09:53:00\",\"2023-02-02T10:53:00\",\"2023-02-02T11:53:00\",\"2023-02-02T12:53:00\",\"2023-02-02T13:25:00\",\"2023-02-02T13:53:00\",\"2023-02-02T14:53:00\",\"2023-02-02T15:53:00\",\"2023-02-02T16:53:00\",\"2023-02-02T17:53:00\",\"2023-02-02T18:53:00\",\"2023-02-02T19:53:00\",\"2023-02-02T20:53:00\",\"2023-02-02T21:53:00\",\"2023-02-02T22:53:00\",\"2023-02-02T23:53:00\",\"2023-02-03T00:53:00\",\"2023-02-03T01:53:00\",\"2023-02-03T02:53:00\",\"2023-02-03T03:53:00\",\"2023-02-03T04:53:00\",\"2023-02-03T05:53:00\",\"2023-02-03T06:53:00\",\"2023-02-03T07:53:00\",\"2023-02-03T08:53:00\",\"2023-02-03T09:53:00\",\"2023-02-03T10:53:00\",\"2023-02-03T11:53:00\",\"2023-02-03T12:53:00\",\"2023-02-03T13:53:00\",\"2023-02-03T14:53:00\",\"2023-02-03T15:53:00\",\"2023-02-03T16:53:00\",\"2023-02-03T17:53:00\",\"2023-02-03T18:53:00\",\"2023-02-03T19:53:00\",\"2023-02-03T20:28:00\",\"2023-02-03T20:37:00\",\"2023-02-03T20:44:00\",\"2023-02-03T20:53:00\",\"2023-02-03T21:20:00\",\"2023-02-03T21:44:00\",\"2023-02-03T21:53:00\",\"2023-02-03T22:42:00\",\"2023-02-03T22:53:00\",\"2023-02-03T23:48:00\",\"2023-02-03T23:53:00\",\"2023-02-04T00:53:00\",\"2023-02-04T01:53:00\",\"2023-02-04T02:24:00\",\"2023-02-04T02:48:00\",\"2023-02-04T02:53:00\",\"2023-02-04T03:41:00\",\"2023-02-04T03:53:00\",\"2023-02-04T04:53:00\",\"2023-02-04T05:00:00\",\"2023-02-04T05:27:00\",\"2023-02-04T05:53:00\",\"2023-02-04T06:40:00\",\"2023-02-04T06:53:00\",\"2023-02-04T07:04:00\",\"2023-02-04T07:29:00\",\"2023-02-04T07:53:00\",\"2023-02-04T08:53:00\",\"2023-02-04T09:53:00\",\"2023-02-04T10:53:00\",\"2023-02-04T11:21:00\",\"2023-02-04T11:53:00\",\"2023-02-04T12:53:00\",\"2023-02-04T13:39:00\",\"2023-02-04T13:53:00\",\"2023-02-04T14:06:00\",\"2023-02-04T14:14:00\",\"2023-02-04T14:53:00\",\"2023-02-04T15:06:00\",\"2023-02-04T15:19:00\",\"2023-02-04T15:42:00\",\"2023-02-04T15:53:00\",\"2023-02-04T15:56:00\",\"2023-02-04T16:53:00\",\"2023-02-04T17:53:00\",\"2023-02-04T18:53:00\",\"2023-02-04T19:53:00\",\"2023-02-04T20:53:00\",\"2023-02-04T21:53:00\",\"2023-02-04T22:03:00\",\"2023-02-04T22:53:00\",\"2023-02-04T23:53:00\",\"2023-02-05T00:53:00\",\"2023-02-05T01:53:00\",\"2023-02-05T02:19:00\",\"2023-02-05T02:53:00\",\"2023-02-05T03:53:00\",\"2023-02-05T04:53:00\",\"2023-02-05T05:53:00\",\"2023-02-05T06:53:00\",\"2023-02-05T07:53:00\",\"2023-02-05T08:53:00\",\"2023-02-05T09:53:00\",\"2023-02-05T10:53:00\",\"2023-02-05T11:53:00\",\"2023-02-05T12:53:00\",\"2023-02-05T13:53:00\",\"2023-02-05T14:53:00\",\"2023-02-05T15:53:00\",\"2023-02-05T16:53:00\",\"2023-02-05T17:53:00\",\"2023-02-05T18:04:00\",\"2023-02-05T18:48:00\",\"2023-02-05T18:53:00\",\"2023-02-05T19:02:00\",\"2023-02-05T19:53:00\",\"2023-02-05T20:15:00\",\"2023-02-05T20:35:00\",\"2023-02-05T20:53:00\",\"2023-02-05T21:02:00\",\"2023-02-05T21:22:00\",\"2023-02-05T21:50:00\",\"2023-02-05T21:53:00\",\"2023-02-05T22:00:00\",\"2023-02-05T22:41:00\",\"2023-02-05T22:53:00\",\"2023-02-05T23:53:00\",\"2023-02-06T00:53:00\"],\"xaxis\":\"x\",\"y\":[0.0,0.0,0.0,0.0,0.0,0.0,0.0,0.0,0.0,0.0,0.0,0.0,0.0,0.0,0.0,0.0,0.0,0.0,0.0,0.0,0.0,0.0,0.0,0.0,0.0,0.0,0.0,0.0,0.0,0.0,0.0,0.0,0.0,0.0,0.0,0.0,0.0,0.0,0.0,0.0,0.0,0.0,0.0,0.0,0.0,0.0,0.0,0.0,0.0,0.0,0.0,0.0,0.0,0.0,0.0,0.0,0.0,0.0,0.0,0.0,0.0,0.0,0.0,0.0,0.0,0.0,0.0,0.0,0.0,0.0,0.0,0.0,0.0,0.0,0.0,0.0,0.0,0.0,0.0,0.0,0.0,0.0,0.0,0.0,0.0,0.0,0.0,0.0,0.26,0.0,0.0,0.0,0.0,0.0,0.0,0.0,0.0,0.0,0.0,0.23,0.0,0.0,0.0,0.0,0.0,0.0,0.0,0.0,0.0,0.13,0.0,0.0,0.0,0.0,0.0,0.0,0.0,0.0,0.0,0.0,0.0,0.0,0.08,0.0,0.0,0.0,0.0,0.0,0.0,0.06,0.0,0.0,0.0,0.0,0.0,0.0,0.13,0.0,0.0,0.0,0.0,0.0,0.0,0.0,0.0,0.0,0.0,0.0,0.23,0.0,0.0,0.0,0.0,0.0,0.0,0.0,0.0,0.0,0.0,0.0,0.0,0.0,0.0,0.0,0.02,0.0],\"yaxis\":\"y\",\"type\":\"scatter\"},{\"hovertemplate\":\"variable=Precip_24hr_in<br>DateTime=%{x}<br>value=%{y}<extra></extra>\",\"legendgroup\":\"Precip_24hr_in\",\"line\":{\"color\":\"#ab63fa\",\"dash\":\"solid\"},\"marker\":{\"symbol\":\"circle\"},\"mode\":\"lines\",\"name\":\"Precip_24hr_in\",\"orientation\":\"v\",\"showlegend\":true,\"x\":[\"2023-02-01T01:53:00\",\"2023-02-01T02:53:00\",\"2023-02-01T03:53:00\",\"2023-02-01T04:53:00\",\"2023-02-01T05:53:00\",\"2023-02-01T06:53:00\",\"2023-02-01T07:53:00\",\"2023-02-01T08:53:00\",\"2023-02-01T09:53:00\",\"2023-02-01T10:03:00\",\"2023-02-01T10:41:00\",\"2023-02-01T10:49:00\",\"2023-02-01T10:53:00\",\"2023-02-01T11:53:00\",\"2023-02-01T12:53:00\",\"2023-02-01T13:53:00\",\"2023-02-01T14:53:00\",\"2023-02-01T15:53:00\",\"2023-02-01T16:53:00\",\"2023-02-01T17:53:00\",\"2023-02-01T18:53:00\",\"2023-02-01T19:53:00\",\"2023-02-01T20:53:00\",\"2023-02-01T21:53:00\",\"2023-02-01T22:53:00\",\"2023-02-01T23:53:00\",\"2023-02-02T00:53:00\",\"2023-02-02T01:53:00\",\"2023-02-02T02:53:00\",\"2023-02-02T03:53:00\",\"2023-02-02T04:53:00\",\"2023-02-02T05:53:00\",\"2023-02-02T06:53:00\",\"2023-02-02T07:35:00\",\"2023-02-02T07:47:00\",\"2023-02-02T07:53:00\",\"2023-02-02T08:46:00\",\"2023-02-02T08:53:00\",\"2023-02-02T09:09:00\",\"2023-02-02T09:24:00\",\"2023-02-02T09:41:00\",\"2023-02-02T09:51:00\",\"2023-02-02T09:53:00\",\"2023-02-02T10:53:00\",\"2023-02-02T11:53:00\",\"2023-02-02T12:53:00\",\"2023-02-02T13:25:00\",\"2023-02-02T13:53:00\",\"2023-02-02T14:53:00\",\"2023-02-02T15:53:00\",\"2023-02-02T16:53:00\",\"2023-02-02T17:53:00\",\"2023-02-02T18:53:00\",\"2023-02-02T19:53:00\",\"2023-02-02T20:53:00\",\"2023-02-02T21:53:00\",\"2023-02-02T22:53:00\",\"2023-02-02T23:53:00\",\"2023-02-03T00:53:00\",\"2023-02-03T01:53:00\",\"2023-02-03T02:53:00\",\"2023-02-03T03:53:00\",\"2023-02-03T04:53:00\",\"2023-02-03T05:53:00\",\"2023-02-03T06:53:00\",\"2023-02-03T07:53:00\",\"2023-02-03T08:53:00\",\"2023-02-03T09:53:00\",\"2023-02-03T10:53:00\",\"2023-02-03T11:53:00\",\"2023-02-03T12:53:00\",\"2023-02-03T13:53:00\",\"2023-02-03T14:53:00\",\"2023-02-03T15:53:00\",\"2023-02-03T16:53:00\",\"2023-02-03T17:53:00\",\"2023-02-03T18:53:00\",\"2023-02-03T19:53:00\",\"2023-02-03T20:28:00\",\"2023-02-03T20:37:00\",\"2023-02-03T20:44:00\",\"2023-02-03T20:53:00\",\"2023-02-03T21:20:00\",\"2023-02-03T21:44:00\",\"2023-02-03T21:53:00\",\"2023-02-03T22:42:00\",\"2023-02-03T22:53:00\",\"2023-02-03T23:48:00\",\"2023-02-03T23:53:00\",\"2023-02-04T00:53:00\",\"2023-02-04T01:53:00\",\"2023-02-04T02:24:00\",\"2023-02-04T02:48:00\",\"2023-02-04T02:53:00\",\"2023-02-04T03:41:00\",\"2023-02-04T03:53:00\",\"2023-02-04T04:53:00\",\"2023-02-04T05:00:00\",\"2023-02-04T05:27:00\",\"2023-02-04T05:53:00\",\"2023-02-04T06:40:00\",\"2023-02-04T06:53:00\",\"2023-02-04T07:04:00\",\"2023-02-04T07:29:00\",\"2023-02-04T07:53:00\",\"2023-02-04T08:53:00\",\"2023-02-04T09:53:00\",\"2023-02-04T10:53:00\",\"2023-02-04T11:21:00\",\"2023-02-04T11:53:00\",\"2023-02-04T12:53:00\",\"2023-02-04T13:39:00\",\"2023-02-04T13:53:00\",\"2023-02-04T14:06:00\",\"2023-02-04T14:14:00\",\"2023-02-04T14:53:00\",\"2023-02-04T15:06:00\",\"2023-02-04T15:19:00\",\"2023-02-04T15:42:00\",\"2023-02-04T15:53:00\",\"2023-02-04T15:56:00\",\"2023-02-04T16:53:00\",\"2023-02-04T17:53:00\",\"2023-02-04T18:53:00\",\"2023-02-04T19:53:00\",\"2023-02-04T20:53:00\",\"2023-02-04T21:53:00\",\"2023-02-04T22:03:00\",\"2023-02-04T22:53:00\",\"2023-02-04T23:53:00\",\"2023-02-05T00:53:00\",\"2023-02-05T01:53:00\",\"2023-02-05T02:19:00\",\"2023-02-05T02:53:00\",\"2023-02-05T03:53:00\",\"2023-02-05T04:53:00\",\"2023-02-05T05:53:00\",\"2023-02-05T06:53:00\",\"2023-02-05T07:53:00\",\"2023-02-05T08:53:00\",\"2023-02-05T09:53:00\",\"2023-02-05T10:53:00\",\"2023-02-05T11:53:00\",\"2023-02-05T12:53:00\",\"2023-02-05T13:53:00\",\"2023-02-05T14:53:00\",\"2023-02-05T15:53:00\",\"2023-02-05T16:53:00\",\"2023-02-05T17:53:00\",\"2023-02-05T18:04:00\",\"2023-02-05T18:48:00\",\"2023-02-05T18:53:00\",\"2023-02-05T19:02:00\",\"2023-02-05T19:53:00\",\"2023-02-05T20:15:00\",\"2023-02-05T20:35:00\",\"2023-02-05T20:53:00\",\"2023-02-05T21:02:00\",\"2023-02-05T21:22:00\",\"2023-02-05T21:50:00\",\"2023-02-05T21:53:00\",\"2023-02-05T22:00:00\",\"2023-02-05T22:41:00\",\"2023-02-05T22:53:00\",\"2023-02-05T23:53:00\",\"2023-02-06T00:53:00\"],\"xaxis\":\"x\",\"y\":[0.0,0.0,0.0,0.0,0.0,0.0,0.0,0.0,0.0,0.0,0.0,0.0,0.0,0.0,0.0,0.0,0.0,0.0,0.0,0.0,0.0,0.0,0.0,0.0,0.0,0.0,0.0,0.0,0.0,0.0,0.0,0.0,0.0,0.0,0.0,0.0,0.0,0.0,0.0,0.0,0.0,0.0,0.0,0.0,0.0,0.0,0.0,0.0,0.0,0.0,0.0,0.0,0.0,0.0,0.0,0.0,0.0,0.0,0.0,0.0,0.0,0.0,0.0,0.0,0.0,0.0,0.0,0.0,0.0,0.0,0.0,0.0,0.0,0.0,0.0,0.0,0.0,0.0,0.0,0.0,0.0,0.0,0.0,0.0,0.0,0.0,0.0,0.0,0.0,0.0,0.0,0.0,0.0,0.0,0.0,0.0,0.0,0.0,0.0,0.0,0.0,0.0,0.0,0.0,0.0,0.0,0.0,0.0,0.0,0.62,0.0,0.0,0.0,0.0,0.0,0.0,0.0,0.0,0.0,0.0,0.0,0.0,0.0,0.0,0.0,0.0,0.0,0.0,0.0,0.0,0.0,0.0,0.0,0.0,0.0,0.0,0.0,0.0,0.0,0.0,0.0,0.0,0.27,0.0,0.0,0.0,0.0,0.0,0.0,0.0,0.0,0.0,0.0,0.0,0.0,0.0,0.0,0.0,0.0,0.0,0.0,0.0,0.0,0.0,0.0,0.0],\"yaxis\":\"y\",\"type\":\"scatter\"}],                        {\"template\":{\"data\":{\"bar\":[{\"error_x\":{\"color\":\"#2a3f5f\"},\"error_y\":{\"color\":\"#2a3f5f\"},\"marker\":{\"line\":{\"color\":\"#E5ECF6\",\"width\":0.5},\"pattern\":{\"fillmode\":\"overlay\",\"size\":10,\"solidity\":0.2}},\"type\":\"bar\"}],\"barpolar\":[{\"marker\":{\"line\":{\"color\":\"#E5ECF6\",\"width\":0.5},\"pattern\":{\"fillmode\":\"overlay\",\"size\":10,\"solidity\":0.2}},\"type\":\"barpolar\"}],\"carpet\":[{\"aaxis\":{\"endlinecolor\":\"#2a3f5f\",\"gridcolor\":\"white\",\"linecolor\":\"white\",\"minorgridcolor\":\"white\",\"startlinecolor\":\"#2a3f5f\"},\"baxis\":{\"endlinecolor\":\"#2a3f5f\",\"gridcolor\":\"white\",\"linecolor\":\"white\",\"minorgridcolor\":\"white\",\"startlinecolor\":\"#2a3f5f\"},\"type\":\"carpet\"}],\"choropleth\":[{\"colorbar\":{\"outlinewidth\":0,\"ticks\":\"\"},\"type\":\"choropleth\"}],\"contour\":[{\"colorbar\":{\"outlinewidth\":0,\"ticks\":\"\"},\"colorscale\":[[0.0,\"#0d0887\"],[0.1111111111111111,\"#46039f\"],[0.2222222222222222,\"#7201a8\"],[0.3333333333333333,\"#9c179e\"],[0.4444444444444444,\"#bd3786\"],[0.5555555555555556,\"#d8576b\"],[0.6666666666666666,\"#ed7953\"],[0.7777777777777778,\"#fb9f3a\"],[0.8888888888888888,\"#fdca26\"],[1.0,\"#f0f921\"]],\"type\":\"contour\"}],\"contourcarpet\":[{\"colorbar\":{\"outlinewidth\":0,\"ticks\":\"\"},\"type\":\"contourcarpet\"}],\"heatmap\":[{\"colorbar\":{\"outlinewidth\":0,\"ticks\":\"\"},\"colorscale\":[[0.0,\"#0d0887\"],[0.1111111111111111,\"#46039f\"],[0.2222222222222222,\"#7201a8\"],[0.3333333333333333,\"#9c179e\"],[0.4444444444444444,\"#bd3786\"],[0.5555555555555556,\"#d8576b\"],[0.6666666666666666,\"#ed7953\"],[0.7777777777777778,\"#fb9f3a\"],[0.8888888888888888,\"#fdca26\"],[1.0,\"#f0f921\"]],\"type\":\"heatmap\"}],\"heatmapgl\":[{\"colorbar\":{\"outlinewidth\":0,\"ticks\":\"\"},\"colorscale\":[[0.0,\"#0d0887\"],[0.1111111111111111,\"#46039f\"],[0.2222222222222222,\"#7201a8\"],[0.3333333333333333,\"#9c179e\"],[0.4444444444444444,\"#bd3786\"],[0.5555555555555556,\"#d8576b\"],[0.6666666666666666,\"#ed7953\"],[0.7777777777777778,\"#fb9f3a\"],[0.8888888888888888,\"#fdca26\"],[1.0,\"#f0f921\"]],\"type\":\"heatmapgl\"}],\"histogram\":[{\"marker\":{\"pattern\":{\"fillmode\":\"overlay\",\"size\":10,\"solidity\":0.2}},\"type\":\"histogram\"}],\"histogram2d\":[{\"colorbar\":{\"outlinewidth\":0,\"ticks\":\"\"},\"colorscale\":[[0.0,\"#0d0887\"],[0.1111111111111111,\"#46039f\"],[0.2222222222222222,\"#7201a8\"],[0.3333333333333333,\"#9c179e\"],[0.4444444444444444,\"#bd3786\"],[0.5555555555555556,\"#d8576b\"],[0.6666666666666666,\"#ed7953\"],[0.7777777777777778,\"#fb9f3a\"],[0.8888888888888888,\"#fdca26\"],[1.0,\"#f0f921\"]],\"type\":\"histogram2d\"}],\"histogram2dcontour\":[{\"colorbar\":{\"outlinewidth\":0,\"ticks\":\"\"},\"colorscale\":[[0.0,\"#0d0887\"],[0.1111111111111111,\"#46039f\"],[0.2222222222222222,\"#7201a8\"],[0.3333333333333333,\"#9c179e\"],[0.4444444444444444,\"#bd3786\"],[0.5555555555555556,\"#d8576b\"],[0.6666666666666666,\"#ed7953\"],[0.7777777777777778,\"#fb9f3a\"],[0.8888888888888888,\"#fdca26\"],[1.0,\"#f0f921\"]],\"type\":\"histogram2dcontour\"}],\"mesh3d\":[{\"colorbar\":{\"outlinewidth\":0,\"ticks\":\"\"},\"type\":\"mesh3d\"}],\"parcoords\":[{\"line\":{\"colorbar\":{\"outlinewidth\":0,\"ticks\":\"\"}},\"type\":\"parcoords\"}],\"pie\":[{\"automargin\":true,\"type\":\"pie\"}],\"scatter\":[{\"marker\":{\"colorbar\":{\"outlinewidth\":0,\"ticks\":\"\"}},\"type\":\"scatter\"}],\"scatter3d\":[{\"line\":{\"colorbar\":{\"outlinewidth\":0,\"ticks\":\"\"}},\"marker\":{\"colorbar\":{\"outlinewidth\":0,\"ticks\":\"\"}},\"type\":\"scatter3d\"}],\"scattercarpet\":[{\"marker\":{\"colorbar\":{\"outlinewidth\":0,\"ticks\":\"\"}},\"type\":\"scattercarpet\"}],\"scattergeo\":[{\"marker\":{\"colorbar\":{\"outlinewidth\":0,\"ticks\":\"\"}},\"type\":\"scattergeo\"}],\"scattergl\":[{\"marker\":{\"colorbar\":{\"outlinewidth\":0,\"ticks\":\"\"}},\"type\":\"scattergl\"}],\"scattermapbox\":[{\"marker\":{\"colorbar\":{\"outlinewidth\":0,\"ticks\":\"\"}},\"type\":\"scattermapbox\"}],\"scatterpolar\":[{\"marker\":{\"colorbar\":{\"outlinewidth\":0,\"ticks\":\"\"}},\"type\":\"scatterpolar\"}],\"scatterpolargl\":[{\"marker\":{\"colorbar\":{\"outlinewidth\":0,\"ticks\":\"\"}},\"type\":\"scatterpolargl\"}],\"scatterternary\":[{\"marker\":{\"colorbar\":{\"outlinewidth\":0,\"ticks\":\"\"}},\"type\":\"scatterternary\"}],\"surface\":[{\"colorbar\":{\"outlinewidth\":0,\"ticks\":\"\"},\"colorscale\":[[0.0,\"#0d0887\"],[0.1111111111111111,\"#46039f\"],[0.2222222222222222,\"#7201a8\"],[0.3333333333333333,\"#9c179e\"],[0.4444444444444444,\"#bd3786\"],[0.5555555555555556,\"#d8576b\"],[0.6666666666666666,\"#ed7953\"],[0.7777777777777778,\"#fb9f3a\"],[0.8888888888888888,\"#fdca26\"],[1.0,\"#f0f921\"]],\"type\":\"surface\"}],\"table\":[{\"cells\":{\"fill\":{\"color\":\"#EBF0F8\"},\"line\":{\"color\":\"white\"}},\"header\":{\"fill\":{\"color\":\"#C8D4E3\"},\"line\":{\"color\":\"white\"}},\"type\":\"table\"}]},\"layout\":{\"annotationdefaults\":{\"arrowcolor\":\"#2a3f5f\",\"arrowhead\":0,\"arrowwidth\":1},\"autotypenumbers\":\"strict\",\"coloraxis\":{\"colorbar\":{\"outlinewidth\":0,\"ticks\":\"\"}},\"colorscale\":{\"diverging\":[[0,\"#8e0152\"],[0.1,\"#c51b7d\"],[0.2,\"#de77ae\"],[0.3,\"#f1b6da\"],[0.4,\"#fde0ef\"],[0.5,\"#f7f7f7\"],[0.6,\"#e6f5d0\"],[0.7,\"#b8e186\"],[0.8,\"#7fbc41\"],[0.9,\"#4d9221\"],[1,\"#276419\"]],\"sequential\":[[0.0,\"#0d0887\"],[0.1111111111111111,\"#46039f\"],[0.2222222222222222,\"#7201a8\"],[0.3333333333333333,\"#9c179e\"],[0.4444444444444444,\"#bd3786\"],[0.5555555555555556,\"#d8576b\"],[0.6666666666666666,\"#ed7953\"],[0.7777777777777778,\"#fb9f3a\"],[0.8888888888888888,\"#fdca26\"],[1.0,\"#f0f921\"]],\"sequentialminus\":[[0.0,\"#0d0887\"],[0.1111111111111111,\"#46039f\"],[0.2222222222222222,\"#7201a8\"],[0.3333333333333333,\"#9c179e\"],[0.4444444444444444,\"#bd3786\"],[0.5555555555555556,\"#d8576b\"],[0.6666666666666666,\"#ed7953\"],[0.7777777777777778,\"#fb9f3a\"],[0.8888888888888888,\"#fdca26\"],[1.0,\"#f0f921\"]]},\"colorway\":[\"#636efa\",\"#EF553B\",\"#00cc96\",\"#ab63fa\",\"#FFA15A\",\"#19d3f3\",\"#FF6692\",\"#B6E880\",\"#FF97FF\",\"#FECB52\"],\"font\":{\"color\":\"#2a3f5f\"},\"geo\":{\"bgcolor\":\"white\",\"lakecolor\":\"white\",\"landcolor\":\"#E5ECF6\",\"showlakes\":true,\"showland\":true,\"subunitcolor\":\"white\"},\"hoverlabel\":{\"align\":\"left\"},\"hovermode\":\"closest\",\"mapbox\":{\"style\":\"light\"},\"paper_bgcolor\":\"white\",\"plot_bgcolor\":\"#E5ECF6\",\"polar\":{\"angularaxis\":{\"gridcolor\":\"white\",\"linecolor\":\"white\",\"ticks\":\"\"},\"bgcolor\":\"#E5ECF6\",\"radialaxis\":{\"gridcolor\":\"white\",\"linecolor\":\"white\",\"ticks\":\"\"}},\"scene\":{\"xaxis\":{\"backgroundcolor\":\"#E5ECF6\",\"gridcolor\":\"white\",\"gridwidth\":2,\"linecolor\":\"white\",\"showbackground\":true,\"ticks\":\"\",\"zerolinecolor\":\"white\"},\"yaxis\":{\"backgroundcolor\":\"#E5ECF6\",\"gridcolor\":\"white\",\"gridwidth\":2,\"linecolor\":\"white\",\"showbackground\":true,\"ticks\":\"\",\"zerolinecolor\":\"white\"},\"zaxis\":{\"backgroundcolor\":\"#E5ECF6\",\"gridcolor\":\"white\",\"gridwidth\":2,\"linecolor\":\"white\",\"showbackground\":true,\"ticks\":\"\",\"zerolinecolor\":\"white\"}},\"shapedefaults\":{\"line\":{\"color\":\"#2a3f5f\"}},\"ternary\":{\"aaxis\":{\"gridcolor\":\"white\",\"linecolor\":\"white\",\"ticks\":\"\"},\"baxis\":{\"gridcolor\":\"white\",\"linecolor\":\"white\",\"ticks\":\"\"},\"bgcolor\":\"#E5ECF6\",\"caxis\":{\"gridcolor\":\"white\",\"linecolor\":\"white\",\"ticks\":\"\"}},\"title\":{\"x\":0.05},\"xaxis\":{\"automargin\":true,\"gridcolor\":\"white\",\"linecolor\":\"white\",\"ticks\":\"\",\"title\":{\"standoff\":15},\"zerolinecolor\":\"white\",\"zerolinewidth\":2},\"yaxis\":{\"automargin\":true,\"gridcolor\":\"white\",\"linecolor\":\"white\",\"ticks\":\"\",\"title\":{\"standoff\":15},\"zerolinecolor\":\"white\",\"zerolinewidth\":2}}},\"xaxis\":{\"anchor\":\"y\",\"domain\":[0.0,1.0],\"title\":{\"text\":\"DateTime\"}},\"yaxis\":{\"anchor\":\"x\",\"domain\":[0.0,1.0],\"title\":{\"text\":\"value\"}},\"legend\":{\"title\":{\"text\":\"variable\"},\"tracegroupgap\":0},\"title\":{\"text\":\"Precip\"}},                        {\"responsive\": true}                    ).then(function(){\n",
              "                            \n",
              "var gd = document.getElementById('4c568707-7a30-4c53-89e1-3a58aaabe299');\n",
              "var x = new MutationObserver(function (mutations, observer) {{\n",
              "        var display = window.getComputedStyle(gd).display;\n",
              "        if (!display || display === 'none') {{\n",
              "            console.log([gd, 'removed!']);\n",
              "            Plotly.purge(gd);\n",
              "            observer.disconnect();\n",
              "        }}\n",
              "}});\n",
              "\n",
              "// Listen for the removal of the full notebook cells\n",
              "var notebookContainer = gd.closest('#notebook-container');\n",
              "if (notebookContainer) {{\n",
              "    x.observe(notebookContainer, {childList: true});\n",
              "}}\n",
              "\n",
              "// Listen for the clearing of the current output cell\n",
              "var outputEl = gd.closest('.output');\n",
              "if (outputEl) {{\n",
              "    x.observe(outputEl, {childList: true});\n",
              "}}\n",
              "\n",
              "                        })                };                            </script>        </div>\n",
              "</body>\n",
              "</html>"
            ]
          },
          "metadata": {}
        }
      ]
    },
    {
      "cell_type": "code",
      "source": [
        "import plotly.express as px\n",
        "output_df_rs = output_df.set_index('DateTime').resample('30Min').mean().interpolate('linear')\n",
        "fig = px.line(output_df_rs, x = output_df_rs.index,y = output_df_rs.columns, markers=True, title = 'Precip Resampled')\n",
        "fig.show()"
      ],
      "metadata": {
        "colab": {
          "base_uri": "https://localhost:8080/",
          "height": 542
        },
        "id": "mGKN9HyIu9SM",
        "outputId": "ad83969d-8331-4a46-c8f4-11f35bfadb0a"
      },
      "execution_count": 171,
      "outputs": [
        {
          "output_type": "display_data",
          "data": {
            "text/html": [
              "<html>\n",
              "<head><meta charset=\"utf-8\" /></head>\n",
              "<body>\n",
              "    <div>            <script src=\"https://cdnjs.cloudflare.com/ajax/libs/mathjax/2.7.5/MathJax.js?config=TeX-AMS-MML_SVG\"></script><script type=\"text/javascript\">if (window.MathJax) {MathJax.Hub.Config({SVG: {font: \"STIX-Web\"}});}</script>                <script type=\"text/javascript\">window.PlotlyConfig = {MathJaxConfig: 'local'};</script>\n",
              "        <script src=\"https://cdn.plot.ly/plotly-2.8.3.min.js\"></script>                <div id=\"4ce518ea-d1c9-4d4b-90c8-ae9e5b3c9d9f\" class=\"plotly-graph-div\" style=\"height:525px; width:100%;\"></div>            <script type=\"text/javascript\">                                    window.PLOTLYENV=window.PLOTLYENV || {};                                    if (document.getElementById(\"4ce518ea-d1c9-4d4b-90c8-ae9e5b3c9d9f\")) {                    Plotly.newPlot(                        \"4ce518ea-d1c9-4d4b-90c8-ae9e5b3c9d9f\",                        [{\"hovertemplate\":\"variable=Precip_1hr_in<br>DateTime=%{x}<br>value=%{y}<extra></extra>\",\"legendgroup\":\"Precip_1hr_in\",\"line\":{\"color\":\"#636efa\",\"dash\":\"solid\"},\"marker\":{\"symbol\":\"circle\"},\"mode\":\"lines+markers\",\"name\":\"Precip_1hr_in\",\"orientation\":\"v\",\"showlegend\":true,\"x\":[\"2023-02-01T01:30:00\",\"2023-02-01T02:00:00\",\"2023-02-01T02:30:00\",\"2023-02-01T03:00:00\",\"2023-02-01T03:30:00\",\"2023-02-01T04:00:00\",\"2023-02-01T04:30:00\",\"2023-02-01T05:00:00\",\"2023-02-01T05:30:00\",\"2023-02-01T06:00:00\",\"2023-02-01T06:30:00\",\"2023-02-01T07:00:00\",\"2023-02-01T07:30:00\",\"2023-02-01T08:00:00\",\"2023-02-01T08:30:00\",\"2023-02-01T09:00:00\",\"2023-02-01T09:30:00\",\"2023-02-01T10:00:00\",\"2023-02-01T10:30:00\",\"2023-02-01T11:00:00\",\"2023-02-01T11:30:00\",\"2023-02-01T12:00:00\",\"2023-02-01T12:30:00\",\"2023-02-01T13:00:00\",\"2023-02-01T13:30:00\",\"2023-02-01T14:00:00\",\"2023-02-01T14:30:00\",\"2023-02-01T15:00:00\",\"2023-02-01T15:30:00\",\"2023-02-01T16:00:00\",\"2023-02-01T16:30:00\",\"2023-02-01T17:00:00\",\"2023-02-01T17:30:00\",\"2023-02-01T18:00:00\",\"2023-02-01T18:30:00\",\"2023-02-01T19:00:00\",\"2023-02-01T19:30:00\",\"2023-02-01T20:00:00\",\"2023-02-01T20:30:00\",\"2023-02-01T21:00:00\",\"2023-02-01T21:30:00\",\"2023-02-01T22:00:00\",\"2023-02-01T22:30:00\",\"2023-02-01T23:00:00\",\"2023-02-01T23:30:00\",\"2023-02-02T00:00:00\",\"2023-02-02T00:30:00\",\"2023-02-02T01:00:00\",\"2023-02-02T01:30:00\",\"2023-02-02T02:00:00\",\"2023-02-02T02:30:00\",\"2023-02-02T03:00:00\",\"2023-02-02T03:30:00\",\"2023-02-02T04:00:00\",\"2023-02-02T04:30:00\",\"2023-02-02T05:00:00\",\"2023-02-02T05:30:00\",\"2023-02-02T06:00:00\",\"2023-02-02T06:30:00\",\"2023-02-02T07:00:00\",\"2023-02-02T07:30:00\",\"2023-02-02T08:00:00\",\"2023-02-02T08:30:00\",\"2023-02-02T09:00:00\",\"2023-02-02T09:30:00\",\"2023-02-02T10:00:00\",\"2023-02-02T10:30:00\",\"2023-02-02T11:00:00\",\"2023-02-02T11:30:00\",\"2023-02-02T12:00:00\",\"2023-02-02T12:30:00\",\"2023-02-02T13:00:00\",\"2023-02-02T13:30:00\",\"2023-02-02T14:00:00\",\"2023-02-02T14:30:00\",\"2023-02-02T15:00:00\",\"2023-02-02T15:30:00\",\"2023-02-02T16:00:00\",\"2023-02-02T16:30:00\",\"2023-02-02T17:00:00\",\"2023-02-02T17:30:00\",\"2023-02-02T18:00:00\",\"2023-02-02T18:30:00\",\"2023-02-02T19:00:00\",\"2023-02-02T19:30:00\",\"2023-02-02T20:00:00\",\"2023-02-02T20:30:00\",\"2023-02-02T21:00:00\",\"2023-02-02T21:30:00\",\"2023-02-02T22:00:00\",\"2023-02-02T22:30:00\",\"2023-02-02T23:00:00\",\"2023-02-02T23:30:00\",\"2023-02-03T00:00:00\",\"2023-02-03T00:30:00\",\"2023-02-03T01:00:00\",\"2023-02-03T01:30:00\",\"2023-02-03T02:00:00\",\"2023-02-03T02:30:00\",\"2023-02-03T03:00:00\",\"2023-02-03T03:30:00\",\"2023-02-03T04:00:00\",\"2023-02-03T04:30:00\",\"2023-02-03T05:00:00\",\"2023-02-03T05:30:00\",\"2023-02-03T06:00:00\",\"2023-02-03T06:30:00\",\"2023-02-03T07:00:00\",\"2023-02-03T07:30:00\",\"2023-02-03T08:00:00\",\"2023-02-03T08:30:00\",\"2023-02-03T09:00:00\",\"2023-02-03T09:30:00\",\"2023-02-03T10:00:00\",\"2023-02-03T10:30:00\",\"2023-02-03T11:00:00\",\"2023-02-03T11:30:00\",\"2023-02-03T12:00:00\",\"2023-02-03T12:30:00\",\"2023-02-03T13:00:00\",\"2023-02-03T13:30:00\",\"2023-02-03T14:00:00\",\"2023-02-03T14:30:00\",\"2023-02-03T15:00:00\",\"2023-02-03T15:30:00\",\"2023-02-03T16:00:00\",\"2023-02-03T16:30:00\",\"2023-02-03T17:00:00\",\"2023-02-03T17:30:00\",\"2023-02-03T18:00:00\",\"2023-02-03T18:30:00\",\"2023-02-03T19:00:00\",\"2023-02-03T19:30:00\",\"2023-02-03T20:00:00\",\"2023-02-03T20:30:00\",\"2023-02-03T21:00:00\",\"2023-02-03T21:30:00\",\"2023-02-03T22:00:00\",\"2023-02-03T22:30:00\",\"2023-02-03T23:00:00\",\"2023-02-03T23:30:00\",\"2023-02-04T00:00:00\",\"2023-02-04T00:30:00\",\"2023-02-04T01:00:00\",\"2023-02-04T01:30:00\",\"2023-02-04T02:00:00\",\"2023-02-04T02:30:00\",\"2023-02-04T03:00:00\",\"2023-02-04T03:30:00\",\"2023-02-04T04:00:00\",\"2023-02-04T04:30:00\",\"2023-02-04T05:00:00\",\"2023-02-04T05:30:00\",\"2023-02-04T06:00:00\",\"2023-02-04T06:30:00\",\"2023-02-04T07:00:00\",\"2023-02-04T07:30:00\",\"2023-02-04T08:00:00\",\"2023-02-04T08:30:00\",\"2023-02-04T09:00:00\",\"2023-02-04T09:30:00\",\"2023-02-04T10:00:00\",\"2023-02-04T10:30:00\",\"2023-02-04T11:00:00\",\"2023-02-04T11:30:00\",\"2023-02-04T12:00:00\",\"2023-02-04T12:30:00\",\"2023-02-04T13:00:00\",\"2023-02-04T13:30:00\",\"2023-02-04T14:00:00\",\"2023-02-04T14:30:00\",\"2023-02-04T15:00:00\",\"2023-02-04T15:30:00\",\"2023-02-04T16:00:00\",\"2023-02-04T16:30:00\",\"2023-02-04T17:00:00\",\"2023-02-04T17:30:00\",\"2023-02-04T18:00:00\",\"2023-02-04T18:30:00\",\"2023-02-04T19:00:00\",\"2023-02-04T19:30:00\",\"2023-02-04T20:00:00\",\"2023-02-04T20:30:00\",\"2023-02-04T21:00:00\",\"2023-02-04T21:30:00\",\"2023-02-04T22:00:00\",\"2023-02-04T22:30:00\",\"2023-02-04T23:00:00\",\"2023-02-04T23:30:00\",\"2023-02-05T00:00:00\",\"2023-02-05T00:30:00\",\"2023-02-05T01:00:00\",\"2023-02-05T01:30:00\",\"2023-02-05T02:00:00\",\"2023-02-05T02:30:00\",\"2023-02-05T03:00:00\",\"2023-02-05T03:30:00\",\"2023-02-05T04:00:00\",\"2023-02-05T04:30:00\",\"2023-02-05T05:00:00\",\"2023-02-05T05:30:00\",\"2023-02-05T06:00:00\",\"2023-02-05T06:30:00\",\"2023-02-05T07:00:00\",\"2023-02-05T07:30:00\",\"2023-02-05T08:00:00\",\"2023-02-05T08:30:00\",\"2023-02-05T09:00:00\",\"2023-02-05T09:30:00\",\"2023-02-05T10:00:00\",\"2023-02-05T10:30:00\",\"2023-02-05T11:00:00\",\"2023-02-05T11:30:00\",\"2023-02-05T12:00:00\",\"2023-02-05T12:30:00\",\"2023-02-05T13:00:00\",\"2023-02-05T13:30:00\",\"2023-02-05T14:00:00\",\"2023-02-05T14:30:00\",\"2023-02-05T15:00:00\",\"2023-02-05T15:30:00\",\"2023-02-05T16:00:00\",\"2023-02-05T16:30:00\",\"2023-02-05T17:00:00\",\"2023-02-05T17:30:00\",\"2023-02-05T18:00:00\",\"2023-02-05T18:30:00\",\"2023-02-05T19:00:00\",\"2023-02-05T19:30:00\",\"2023-02-05T20:00:00\",\"2023-02-05T20:30:00\",\"2023-02-05T21:00:00\",\"2023-02-05T21:30:00\",\"2023-02-05T22:00:00\",\"2023-02-05T22:30:00\",\"2023-02-05T23:00:00\",\"2023-02-05T23:30:00\",\"2023-02-06T00:00:00\",\"2023-02-06T00:30:00\"],\"xaxis\":\"x\",\"y\":[0.0,0.0,0.0,0.0,0.0,0.0,0.0,0.0,0.0,0.0,0.0,0.0,0.0,0.0,0.0,0.0,0.0,0.0,0.0,0.0,0.0,0.0,0.0,0.0,0.0,0.0,0.0,0.0,0.0,0.0,0.0,0.0,0.0,0.0,0.0,0.0,0.0,0.0,0.0,0.0,0.0,0.0,0.0,0.0,0.0,0.0,0.0,0.0,0.0,0.0,0.0,0.0,0.0,0.0,0.0,0.0,0.0,0.0,0.0,0.0,0.0,0.0,0.0,0.0,0.0,0.0,0.0,0.0,0.0,0.0,0.0,0.0,0.0,0.0,0.0,0.0,0.0,0.0,0.0,0.0,0.0,0.0,0.0,0.0,0.0,0.0,0.0,0.0,0.0,0.0,0.0,0.0,0.0,0.0,0.0,0.0,0.0,0.0,0.0,0.0,0.0,0.0,0.0,0.0,0.0,0.0,0.0,0.0,0.0,0.0,0.0,0.0,0.0,0.0,0.0,0.0,0.0,0.0,0.0,0.0,0.0,0.0,0.0,0.0,0.0,0.0,0.0,0.0,0.0,0.0,0.0,0.0,0.0,0.0,0.006666666666666667,0.01,0.03,0.0725,0.11499999999999999,0.1075,0.1,0.115,0.13,0.10500000000000001,0.08,0.0,0.0,0.0,0.0,0.0,0.0,0.0,0.02,0.02,0.02,0.01,0.03,0.02,0.01,0.015,0.02,0.02,0.02,0.01,0.03,0.03,0.03,0.04,0.05,0.0,0.0,0.0,0.0,0.0,0.0,0.0,0.0,0.005,0.01,0.019999999999999997,0.03,0.025,0.02,0.01,0.0,0.0,0.0,0.0,0.0,0.01,0.02,0.015,0.01,0.02,0.06,0.04,0.02,0.02,0.02,0.01,0.0,0.0,0.0,0.0,0.0,0.0,0.0,0.0,0.0,0.0,0.0,0.0,0.0,0.005,0.01,0.015,0.02,0.025,0.03,0.04,0.05,0.065,0.08,0.06,0.04,0.01,0.02,0.0,0.0,0.0,0.0,0.0,0.0,0.0,0.0,0.0,0.0,0.0,0.0],\"yaxis\":\"y\",\"type\":\"scatter\"},{\"hovertemplate\":\"variable=Precip_3hr_in<br>DateTime=%{x}<br>value=%{y}<extra></extra>\",\"legendgroup\":\"Precip_3hr_in\",\"line\":{\"color\":\"#EF553B\",\"dash\":\"solid\"},\"marker\":{\"symbol\":\"circle\"},\"mode\":\"lines+markers\",\"name\":\"Precip_3hr_in\",\"orientation\":\"v\",\"showlegend\":true,\"x\":[\"2023-02-01T01:30:00\",\"2023-02-01T02:00:00\",\"2023-02-01T02:30:00\",\"2023-02-01T03:00:00\",\"2023-02-01T03:30:00\",\"2023-02-01T04:00:00\",\"2023-02-01T04:30:00\",\"2023-02-01T05:00:00\",\"2023-02-01T05:30:00\",\"2023-02-01T06:00:00\",\"2023-02-01T06:30:00\",\"2023-02-01T07:00:00\",\"2023-02-01T07:30:00\",\"2023-02-01T08:00:00\",\"2023-02-01T08:30:00\",\"2023-02-01T09:00:00\",\"2023-02-01T09:30:00\",\"2023-02-01T10:00:00\",\"2023-02-01T10:30:00\",\"2023-02-01T11:00:00\",\"2023-02-01T11:30:00\",\"2023-02-01T12:00:00\",\"2023-02-01T12:30:00\",\"2023-02-01T13:00:00\",\"2023-02-01T13:30:00\",\"2023-02-01T14:00:00\",\"2023-02-01T14:30:00\",\"2023-02-01T15:00:00\",\"2023-02-01T15:30:00\",\"2023-02-01T16:00:00\",\"2023-02-01T16:30:00\",\"2023-02-01T17:00:00\",\"2023-02-01T17:30:00\",\"2023-02-01T18:00:00\",\"2023-02-01T18:30:00\",\"2023-02-01T19:00:00\",\"2023-02-01T19:30:00\",\"2023-02-01T20:00:00\",\"2023-02-01T20:30:00\",\"2023-02-01T21:00:00\",\"2023-02-01T21:30:00\",\"2023-02-01T22:00:00\",\"2023-02-01T22:30:00\",\"2023-02-01T23:00:00\",\"2023-02-01T23:30:00\",\"2023-02-02T00:00:00\",\"2023-02-02T00:30:00\",\"2023-02-02T01:00:00\",\"2023-02-02T01:30:00\",\"2023-02-02T02:00:00\",\"2023-02-02T02:30:00\",\"2023-02-02T03:00:00\",\"2023-02-02T03:30:00\",\"2023-02-02T04:00:00\",\"2023-02-02T04:30:00\",\"2023-02-02T05:00:00\",\"2023-02-02T05:30:00\",\"2023-02-02T06:00:00\",\"2023-02-02T06:30:00\",\"2023-02-02T07:00:00\",\"2023-02-02T07:30:00\",\"2023-02-02T08:00:00\",\"2023-02-02T08:30:00\",\"2023-02-02T09:00:00\",\"2023-02-02T09:30:00\",\"2023-02-02T10:00:00\",\"2023-02-02T10:30:00\",\"2023-02-02T11:00:00\",\"2023-02-02T11:30:00\",\"2023-02-02T12:00:00\",\"2023-02-02T12:30:00\",\"2023-02-02T13:00:00\",\"2023-02-02T13:30:00\",\"2023-02-02T14:00:00\",\"2023-02-02T14:30:00\",\"2023-02-02T15:00:00\",\"2023-02-02T15:30:00\",\"2023-02-02T16:00:00\",\"2023-02-02T16:30:00\",\"2023-02-02T17:00:00\",\"2023-02-02T17:30:00\",\"2023-02-02T18:00:00\",\"2023-02-02T18:30:00\",\"2023-02-02T19:00:00\",\"2023-02-02T19:30:00\",\"2023-02-02T20:00:00\",\"2023-02-02T20:30:00\",\"2023-02-02T21:00:00\",\"2023-02-02T21:30:00\",\"2023-02-02T22:00:00\",\"2023-02-02T22:30:00\",\"2023-02-02T23:00:00\",\"2023-02-02T23:30:00\",\"2023-02-03T00:00:00\",\"2023-02-03T00:30:00\",\"2023-02-03T01:00:00\",\"2023-02-03T01:30:00\",\"2023-02-03T02:00:00\",\"2023-02-03T02:30:00\",\"2023-02-03T03:00:00\",\"2023-02-03T03:30:00\",\"2023-02-03T04:00:00\",\"2023-02-03T04:30:00\",\"2023-02-03T05:00:00\",\"2023-02-03T05:30:00\",\"2023-02-03T06:00:00\",\"2023-02-03T06:30:00\",\"2023-02-03T07:00:00\",\"2023-02-03T07:30:00\",\"2023-02-03T08:00:00\",\"2023-02-03T08:30:00\",\"2023-02-03T09:00:00\",\"2023-02-03T09:30:00\",\"2023-02-03T10:00:00\",\"2023-02-03T10:30:00\",\"2023-02-03T11:00:00\",\"2023-02-03T11:30:00\",\"2023-02-03T12:00:00\",\"2023-02-03T12:30:00\",\"2023-02-03T13:00:00\",\"2023-02-03T13:30:00\",\"2023-02-03T14:00:00\",\"2023-02-03T14:30:00\",\"2023-02-03T15:00:00\",\"2023-02-03T15:30:00\",\"2023-02-03T16:00:00\",\"2023-02-03T16:30:00\",\"2023-02-03T17:00:00\",\"2023-02-03T17:30:00\",\"2023-02-03T18:00:00\",\"2023-02-03T18:30:00\",\"2023-02-03T19:00:00\",\"2023-02-03T19:30:00\",\"2023-02-03T20:00:00\",\"2023-02-03T20:30:00\",\"2023-02-03T21:00:00\",\"2023-02-03T21:30:00\",\"2023-02-03T22:00:00\",\"2023-02-03T22:30:00\",\"2023-02-03T23:00:00\",\"2023-02-03T23:30:00\",\"2023-02-04T00:00:00\",\"2023-02-04T00:30:00\",\"2023-02-04T01:00:00\",\"2023-02-04T01:30:00\",\"2023-02-04T02:00:00\",\"2023-02-04T02:30:00\",\"2023-02-04T03:00:00\",\"2023-02-04T03:30:00\",\"2023-02-04T04:00:00\",\"2023-02-04T04:30:00\",\"2023-02-04T05:00:00\",\"2023-02-04T05:30:00\",\"2023-02-04T06:00:00\",\"2023-02-04T06:30:00\",\"2023-02-04T07:00:00\",\"2023-02-04T07:30:00\",\"2023-02-04T08:00:00\",\"2023-02-04T08:30:00\",\"2023-02-04T09:00:00\",\"2023-02-04T09:30:00\",\"2023-02-04T10:00:00\",\"2023-02-04T10:30:00\",\"2023-02-04T11:00:00\",\"2023-02-04T11:30:00\",\"2023-02-04T12:00:00\",\"2023-02-04T12:30:00\",\"2023-02-04T13:00:00\",\"2023-02-04T13:30:00\",\"2023-02-04T14:00:00\",\"2023-02-04T14:30:00\",\"2023-02-04T15:00:00\",\"2023-02-04T15:30:00\",\"2023-02-04T16:00:00\",\"2023-02-04T16:30:00\",\"2023-02-04T17:00:00\",\"2023-02-04T17:30:00\",\"2023-02-04T18:00:00\",\"2023-02-04T18:30:00\",\"2023-02-04T19:00:00\",\"2023-02-04T19:30:00\",\"2023-02-04T20:00:00\",\"2023-02-04T20:30:00\",\"2023-02-04T21:00:00\",\"2023-02-04T21:30:00\",\"2023-02-04T22:00:00\",\"2023-02-04T22:30:00\",\"2023-02-04T23:00:00\",\"2023-02-04T23:30:00\",\"2023-02-05T00:00:00\",\"2023-02-05T00:30:00\",\"2023-02-05T01:00:00\",\"2023-02-05T01:30:00\",\"2023-02-05T02:00:00\",\"2023-02-05T02:30:00\",\"2023-02-05T03:00:00\",\"2023-02-05T03:30:00\",\"2023-02-05T04:00:00\",\"2023-02-05T04:30:00\",\"2023-02-05T05:00:00\",\"2023-02-05T05:30:00\",\"2023-02-05T06:00:00\",\"2023-02-05T06:30:00\",\"2023-02-05T07:00:00\",\"2023-02-05T07:30:00\",\"2023-02-05T08:00:00\",\"2023-02-05T08:30:00\",\"2023-02-05T09:00:00\",\"2023-02-05T09:30:00\",\"2023-02-05T10:00:00\",\"2023-02-05T10:30:00\",\"2023-02-05T11:00:00\",\"2023-02-05T11:30:00\",\"2023-02-05T12:00:00\",\"2023-02-05T12:30:00\",\"2023-02-05T13:00:00\",\"2023-02-05T13:30:00\",\"2023-02-05T14:00:00\",\"2023-02-05T14:30:00\",\"2023-02-05T15:00:00\",\"2023-02-05T15:30:00\",\"2023-02-05T16:00:00\",\"2023-02-05T16:30:00\",\"2023-02-05T17:00:00\",\"2023-02-05T17:30:00\",\"2023-02-05T18:00:00\",\"2023-02-05T18:30:00\",\"2023-02-05T19:00:00\",\"2023-02-05T19:30:00\",\"2023-02-05T20:00:00\",\"2023-02-05T20:30:00\",\"2023-02-05T21:00:00\",\"2023-02-05T21:30:00\",\"2023-02-05T22:00:00\",\"2023-02-05T22:30:00\",\"2023-02-05T23:00:00\",\"2023-02-05T23:30:00\",\"2023-02-06T00:00:00\",\"2023-02-06T00:30:00\"],\"xaxis\":\"x\",\"y\":[0.0,0.0,0.0,0.0,0.0,0.0,0.0,0.0,0.0,0.0,0.0,0.0,0.0,0.0,0.0,0.0,0.0,0.0,0.0,0.0,0.0,0.0,0.0,0.0,0.0,0.0,0.0,0.0,0.0,0.0,0.0,0.0,0.0,0.0,0.0,0.0,0.0,0.0,0.0,0.0,0.0,0.0,0.0,0.0,0.0,0.0,0.0,0.0,0.0,0.0,0.0,0.0,0.0,0.0,0.0,0.0,0.0,0.0,0.0,0.0,0.0,0.0,0.0,0.0,0.0,0.0,0.0,0.0,0.0,0.0,0.0,0.0,0.0,0.0,0.0,0.0,0.0,0.0,0.0,0.0,0.0,0.0,0.0,0.0,0.0,0.0,0.0,0.0,0.0,0.0,0.0,0.0,0.0,0.0,0.0,0.0,0.0,0.0,0.0,0.0,0.0,0.0,0.0,0.0,0.0,0.0,0.0,0.0,0.0,0.0,0.0,0.0,0.0,0.0,0.0,0.0,0.0,0.0,0.0,0.0,0.0,0.0,0.0,0.0,0.0,0.0,0.0,0.0,0.0,0.0,0.0,0.0,0.0,0.0,0.0033333333333333335,0.0,0.0,0.0,0.0,0.0,0.0,0.0,0.0,0.0,0.0,0.0,0.105,0.0525,0.0,0.0,0.0,0.0,0.0,0.0,0.0,0.0,0.0,0.03,0.06,0.03,0.0,0.0,0.0,0.0,0.0,0.0,0.0,0.0,0.0,0.0,0.08,0.0,0.0,0.0,0.0,0.0,0.0,0.0,0.0,0.0,0.0,0.03,0.06,0.03,0.0,0.0,0.0,0.0,0.0,0.0,0.0,0.0,0.0,0.0,0.09,0.045,0.0,0.0,0.0,0.0,0.0,0.0,0.0,0.0,0.0,0.0,0.0,0.0,0.0,0.0,0.0,0.0,0.0,0.0,0.0,0.0,0.0,0.03,0.06,0.03,0.0,0.0,0.0,0.0,0.0,0.0,0.0,0.0,0.0,0.0,0.01,0.0,0.0,0.0,0.0,0.0,0.0,0.0,0.0],\"yaxis\":\"y\",\"type\":\"scatter\"},{\"hovertemplate\":\"variable=Precip_6hr_in<br>DateTime=%{x}<br>value=%{y}<extra></extra>\",\"legendgroup\":\"Precip_6hr_in\",\"line\":{\"color\":\"#00cc96\",\"dash\":\"solid\"},\"marker\":{\"symbol\":\"circle\"},\"mode\":\"lines+markers\",\"name\":\"Precip_6hr_in\",\"orientation\":\"v\",\"showlegend\":true,\"x\":[\"2023-02-01T01:30:00\",\"2023-02-01T02:00:00\",\"2023-02-01T02:30:00\",\"2023-02-01T03:00:00\",\"2023-02-01T03:30:00\",\"2023-02-01T04:00:00\",\"2023-02-01T04:30:00\",\"2023-02-01T05:00:00\",\"2023-02-01T05:30:00\",\"2023-02-01T06:00:00\",\"2023-02-01T06:30:00\",\"2023-02-01T07:00:00\",\"2023-02-01T07:30:00\",\"2023-02-01T08:00:00\",\"2023-02-01T08:30:00\",\"2023-02-01T09:00:00\",\"2023-02-01T09:30:00\",\"2023-02-01T10:00:00\",\"2023-02-01T10:30:00\",\"2023-02-01T11:00:00\",\"2023-02-01T11:30:00\",\"2023-02-01T12:00:00\",\"2023-02-01T12:30:00\",\"2023-02-01T13:00:00\",\"2023-02-01T13:30:00\",\"2023-02-01T14:00:00\",\"2023-02-01T14:30:00\",\"2023-02-01T15:00:00\",\"2023-02-01T15:30:00\",\"2023-02-01T16:00:00\",\"2023-02-01T16:30:00\",\"2023-02-01T17:00:00\",\"2023-02-01T17:30:00\",\"2023-02-01T18:00:00\",\"2023-02-01T18:30:00\",\"2023-02-01T19:00:00\",\"2023-02-01T19:30:00\",\"2023-02-01T20:00:00\",\"2023-02-01T20:30:00\",\"2023-02-01T21:00:00\",\"2023-02-01T21:30:00\",\"2023-02-01T22:00:00\",\"2023-02-01T22:30:00\",\"2023-02-01T23:00:00\",\"2023-02-01T23:30:00\",\"2023-02-02T00:00:00\",\"2023-02-02T00:30:00\",\"2023-02-02T01:00:00\",\"2023-02-02T01:30:00\",\"2023-02-02T02:00:00\",\"2023-02-02T02:30:00\",\"2023-02-02T03:00:00\",\"2023-02-02T03:30:00\",\"2023-02-02T04:00:00\",\"2023-02-02T04:30:00\",\"2023-02-02T05:00:00\",\"2023-02-02T05:30:00\",\"2023-02-02T06:00:00\",\"2023-02-02T06:30:00\",\"2023-02-02T07:00:00\",\"2023-02-02T07:30:00\",\"2023-02-02T08:00:00\",\"2023-02-02T08:30:00\",\"2023-02-02T09:00:00\",\"2023-02-02T09:30:00\",\"2023-02-02T10:00:00\",\"2023-02-02T10:30:00\",\"2023-02-02T11:00:00\",\"2023-02-02T11:30:00\",\"2023-02-02T12:00:00\",\"2023-02-02T12:30:00\",\"2023-02-02T13:00:00\",\"2023-02-02T13:30:00\",\"2023-02-02T14:00:00\",\"2023-02-02T14:30:00\",\"2023-02-02T15:00:00\",\"2023-02-02T15:30:00\",\"2023-02-02T16:00:00\",\"2023-02-02T16:30:00\",\"2023-02-02T17:00:00\",\"2023-02-02T17:30:00\",\"2023-02-02T18:00:00\",\"2023-02-02T18:30:00\",\"2023-02-02T19:00:00\",\"2023-02-02T19:30:00\",\"2023-02-02T20:00:00\",\"2023-02-02T20:30:00\",\"2023-02-02T21:00:00\",\"2023-02-02T21:30:00\",\"2023-02-02T22:00:00\",\"2023-02-02T22:30:00\",\"2023-02-02T23:00:00\",\"2023-02-02T23:30:00\",\"2023-02-03T00:00:00\",\"2023-02-03T00:30:00\",\"2023-02-03T01:00:00\",\"2023-02-03T01:30:00\",\"2023-02-03T02:00:00\",\"2023-02-03T02:30:00\",\"2023-02-03T03:00:00\",\"2023-02-03T03:30:00\",\"2023-02-03T04:00:00\",\"2023-02-03T04:30:00\",\"2023-02-03T05:00:00\",\"2023-02-03T05:30:00\",\"2023-02-03T06:00:00\",\"2023-02-03T06:30:00\",\"2023-02-03T07:00:00\",\"2023-02-03T07:30:00\",\"2023-02-03T08:00:00\",\"2023-02-03T08:30:00\",\"2023-02-03T09:00:00\",\"2023-02-03T09:30:00\",\"2023-02-03T10:00:00\",\"2023-02-03T10:30:00\",\"2023-02-03T11:00:00\",\"2023-02-03T11:30:00\",\"2023-02-03T12:00:00\",\"2023-02-03T12:30:00\",\"2023-02-03T13:00:00\",\"2023-02-03T13:30:00\",\"2023-02-03T14:00:00\",\"2023-02-03T14:30:00\",\"2023-02-03T15:00:00\",\"2023-02-03T15:30:00\",\"2023-02-03T16:00:00\",\"2023-02-03T16:30:00\",\"2023-02-03T17:00:00\",\"2023-02-03T17:30:00\",\"2023-02-03T18:00:00\",\"2023-02-03T18:30:00\",\"2023-02-03T19:00:00\",\"2023-02-03T19:30:00\",\"2023-02-03T20:00:00\",\"2023-02-03T20:30:00\",\"2023-02-03T21:00:00\",\"2023-02-03T21:30:00\",\"2023-02-03T22:00:00\",\"2023-02-03T22:30:00\",\"2023-02-03T23:00:00\",\"2023-02-03T23:30:00\",\"2023-02-04T00:00:00\",\"2023-02-04T00:30:00\",\"2023-02-04T01:00:00\",\"2023-02-04T01:30:00\",\"2023-02-04T02:00:00\",\"2023-02-04T02:30:00\",\"2023-02-04T03:00:00\",\"2023-02-04T03:30:00\",\"2023-02-04T04:00:00\",\"2023-02-04T04:30:00\",\"2023-02-04T05:00:00\",\"2023-02-04T05:30:00\",\"2023-02-04T06:00:00\",\"2023-02-04T06:30:00\",\"2023-02-04T07:00:00\",\"2023-02-04T07:30:00\",\"2023-02-04T08:00:00\",\"2023-02-04T08:30:00\",\"2023-02-04T09:00:00\",\"2023-02-04T09:30:00\",\"2023-02-04T10:00:00\",\"2023-02-04T10:30:00\",\"2023-02-04T11:00:00\",\"2023-02-04T11:30:00\",\"2023-02-04T12:00:00\",\"2023-02-04T12:30:00\",\"2023-02-04T13:00:00\",\"2023-02-04T13:30:00\",\"2023-02-04T14:00:00\",\"2023-02-04T14:30:00\",\"2023-02-04T15:00:00\",\"2023-02-04T15:30:00\",\"2023-02-04T16:00:00\",\"2023-02-04T16:30:00\",\"2023-02-04T17:00:00\",\"2023-02-04T17:30:00\",\"2023-02-04T18:00:00\",\"2023-02-04T18:30:00\",\"2023-02-04T19:00:00\",\"2023-02-04T19:30:00\",\"2023-02-04T20:00:00\",\"2023-02-04T20:30:00\",\"2023-02-04T21:00:00\",\"2023-02-04T21:30:00\",\"2023-02-04T22:00:00\",\"2023-02-04T22:30:00\",\"2023-02-04T23:00:00\",\"2023-02-04T23:30:00\",\"2023-02-05T00:00:00\",\"2023-02-05T00:30:00\",\"2023-02-05T01:00:00\",\"2023-02-05T01:30:00\",\"2023-02-05T02:00:00\",\"2023-02-05T02:30:00\",\"2023-02-05T03:00:00\",\"2023-02-05T03:30:00\",\"2023-02-05T04:00:00\",\"2023-02-05T04:30:00\",\"2023-02-05T05:00:00\",\"2023-02-05T05:30:00\",\"2023-02-05T06:00:00\",\"2023-02-05T06:30:00\",\"2023-02-05T07:00:00\",\"2023-02-05T07:30:00\",\"2023-02-05T08:00:00\",\"2023-02-05T08:30:00\",\"2023-02-05T09:00:00\",\"2023-02-05T09:30:00\",\"2023-02-05T10:00:00\",\"2023-02-05T10:30:00\",\"2023-02-05T11:00:00\",\"2023-02-05T11:30:00\",\"2023-02-05T12:00:00\",\"2023-02-05T12:30:00\",\"2023-02-05T13:00:00\",\"2023-02-05T13:30:00\",\"2023-02-05T14:00:00\",\"2023-02-05T14:30:00\",\"2023-02-05T15:00:00\",\"2023-02-05T15:30:00\",\"2023-02-05T16:00:00\",\"2023-02-05T16:30:00\",\"2023-02-05T17:00:00\",\"2023-02-05T17:30:00\",\"2023-02-05T18:00:00\",\"2023-02-05T18:30:00\",\"2023-02-05T19:00:00\",\"2023-02-05T19:30:00\",\"2023-02-05T20:00:00\",\"2023-02-05T20:30:00\",\"2023-02-05T21:00:00\",\"2023-02-05T21:30:00\",\"2023-02-05T22:00:00\",\"2023-02-05T22:30:00\",\"2023-02-05T23:00:00\",\"2023-02-05T23:30:00\",\"2023-02-06T00:00:00\",\"2023-02-06T00:30:00\"],\"xaxis\":\"x\",\"y\":[0.0,0.0,0.0,0.0,0.0,0.0,0.0,0.0,0.0,0.0,0.0,0.0,0.0,0.0,0.0,0.0,0.0,0.0,0.0,0.0,0.0,0.0,0.0,0.0,0.0,0.0,0.0,0.0,0.0,0.0,0.0,0.0,0.0,0.0,0.0,0.0,0.0,0.0,0.0,0.0,0.0,0.0,0.0,0.0,0.0,0.0,0.0,0.0,0.0,0.0,0.0,0.0,0.0,0.0,0.0,0.0,0.0,0.0,0.0,0.0,0.0,0.0,0.0,0.0,0.0,0.0,0.0,0.0,0.0,0.0,0.0,0.0,0.0,0.0,0.0,0.0,0.0,0.0,0.0,0.0,0.0,0.0,0.0,0.0,0.0,0.0,0.0,0.0,0.0,0.0,0.0,0.0,0.0,0.0,0.0,0.0,0.0,0.0,0.0,0.0,0.0,0.0,0.0,0.0,0.0,0.0,0.0,0.0,0.0,0.0,0.0,0.0,0.0,0.0,0.0,0.0,0.0,0.0,0.0,0.0,0.0,0.0,0.0,0.0,0.0,0.0,0.0,0.0,0.0,0.0,0.0,0.0,0.0,0.0,0.0,0.0,0.0,0.0,0.0,0.065,0.13,0.065,0.0,0.0,0.0,0.0,0.0,0.0,0.0,0.0,0.0,0.0,0.23,0.115,0.0,0.0,0.0,0.0,0.0,0.0,0.0,0.0,0.0,0.0,0.13,0.065,0.0,0.0,0.0,0.0,0.0,0.0,0.0,0.0,0.0,0.04,0.08,0.04,0.0,0.0,0.0,0.0,0.0,0.0,0.0,0.0,0.0,0.03,0.06,0.03,0.0,0.0,0.0,0.0,0.0,0.0,0.0,0.0,0.0,0.065,0.13,0.065,0.0,0.0,0.0,0.0,0.0,0.0,0.0,0.0,0.0,0.0,0.0,0.0,0.0,0.0,0.0,0.0,0.0,0.0,0.0,0.0,0.0,0.115,0.23,0.0,0.0,0.0,0.0,0.0,0.0,0.0,0.0,0.0,0.0,0.01,0.02,0.01,0.0],\"yaxis\":\"y\",\"type\":\"scatter\"},{\"hovertemplate\":\"variable=Precip_24hr_in<br>DateTime=%{x}<br>value=%{y}<extra></extra>\",\"legendgroup\":\"Precip_24hr_in\",\"line\":{\"color\":\"#ab63fa\",\"dash\":\"solid\"},\"marker\":{\"symbol\":\"circle\"},\"mode\":\"lines+markers\",\"name\":\"Precip_24hr_in\",\"orientation\":\"v\",\"showlegend\":true,\"x\":[\"2023-02-01T01:30:00\",\"2023-02-01T02:00:00\",\"2023-02-01T02:30:00\",\"2023-02-01T03:00:00\",\"2023-02-01T03:30:00\",\"2023-02-01T04:00:00\",\"2023-02-01T04:30:00\",\"2023-02-01T05:00:00\",\"2023-02-01T05:30:00\",\"2023-02-01T06:00:00\",\"2023-02-01T06:30:00\",\"2023-02-01T07:00:00\",\"2023-02-01T07:30:00\",\"2023-02-01T08:00:00\",\"2023-02-01T08:30:00\",\"2023-02-01T09:00:00\",\"2023-02-01T09:30:00\",\"2023-02-01T10:00:00\",\"2023-02-01T10:30:00\",\"2023-02-01T11:00:00\",\"2023-02-01T11:30:00\",\"2023-02-01T12:00:00\",\"2023-02-01T12:30:00\",\"2023-02-01T13:00:00\",\"2023-02-01T13:30:00\",\"2023-02-01T14:00:00\",\"2023-02-01T14:30:00\",\"2023-02-01T15:00:00\",\"2023-02-01T15:30:00\",\"2023-02-01T16:00:00\",\"2023-02-01T16:30:00\",\"2023-02-01T17:00:00\",\"2023-02-01T17:30:00\",\"2023-02-01T18:00:00\",\"2023-02-01T18:30:00\",\"2023-02-01T19:00:00\",\"2023-02-01T19:30:00\",\"2023-02-01T20:00:00\",\"2023-02-01T20:30:00\",\"2023-02-01T21:00:00\",\"2023-02-01T21:30:00\",\"2023-02-01T22:00:00\",\"2023-02-01T22:30:00\",\"2023-02-01T23:00:00\",\"2023-02-01T23:30:00\",\"2023-02-02T00:00:00\",\"2023-02-02T00:30:00\",\"2023-02-02T01:00:00\",\"2023-02-02T01:30:00\",\"2023-02-02T02:00:00\",\"2023-02-02T02:30:00\",\"2023-02-02T03:00:00\",\"2023-02-02T03:30:00\",\"2023-02-02T04:00:00\",\"2023-02-02T04:30:00\",\"2023-02-02T05:00:00\",\"2023-02-02T05:30:00\",\"2023-02-02T06:00:00\",\"2023-02-02T06:30:00\",\"2023-02-02T07:00:00\",\"2023-02-02T07:30:00\",\"2023-02-02T08:00:00\",\"2023-02-02T08:30:00\",\"2023-02-02T09:00:00\",\"2023-02-02T09:30:00\",\"2023-02-02T10:00:00\",\"2023-02-02T10:30:00\",\"2023-02-02T11:00:00\",\"2023-02-02T11:30:00\",\"2023-02-02T12:00:00\",\"2023-02-02T12:30:00\",\"2023-02-02T13:00:00\",\"2023-02-02T13:30:00\",\"2023-02-02T14:00:00\",\"2023-02-02T14:30:00\",\"2023-02-02T15:00:00\",\"2023-02-02T15:30:00\",\"2023-02-02T16:00:00\",\"2023-02-02T16:30:00\",\"2023-02-02T17:00:00\",\"2023-02-02T17:30:00\",\"2023-02-02T18:00:00\",\"2023-02-02T18:30:00\",\"2023-02-02T19:00:00\",\"2023-02-02T19:30:00\",\"2023-02-02T20:00:00\",\"2023-02-02T20:30:00\",\"2023-02-02T21:00:00\",\"2023-02-02T21:30:00\",\"2023-02-02T22:00:00\",\"2023-02-02T22:30:00\",\"2023-02-02T23:00:00\",\"2023-02-02T23:30:00\",\"2023-02-03T00:00:00\",\"2023-02-03T00:30:00\",\"2023-02-03T01:00:00\",\"2023-02-03T01:30:00\",\"2023-02-03T02:00:00\",\"2023-02-03T02:30:00\",\"2023-02-03T03:00:00\",\"2023-02-03T03:30:00\",\"2023-02-03T04:00:00\",\"2023-02-03T04:30:00\",\"2023-02-03T05:00:00\",\"2023-02-03T05:30:00\",\"2023-02-03T06:00:00\",\"2023-02-03T06:30:00\",\"2023-02-03T07:00:00\",\"2023-02-03T07:30:00\",\"2023-02-03T08:00:00\",\"2023-02-03T08:30:00\",\"2023-02-03T09:00:00\",\"2023-02-03T09:30:00\",\"2023-02-03T10:00:00\",\"2023-02-03T10:30:00\",\"2023-02-03T11:00:00\",\"2023-02-03T11:30:00\",\"2023-02-03T12:00:00\",\"2023-02-03T12:30:00\",\"2023-02-03T13:00:00\",\"2023-02-03T13:30:00\",\"2023-02-03T14:00:00\",\"2023-02-03T14:30:00\",\"2023-02-03T15:00:00\",\"2023-02-03T15:30:00\",\"2023-02-03T16:00:00\",\"2023-02-03T16:30:00\",\"2023-02-03T17:00:00\",\"2023-02-03T17:30:00\",\"2023-02-03T18:00:00\",\"2023-02-03T18:30:00\",\"2023-02-03T19:00:00\",\"2023-02-03T19:30:00\",\"2023-02-03T20:00:00\",\"2023-02-03T20:30:00\",\"2023-02-03T21:00:00\",\"2023-02-03T21:30:00\",\"2023-02-03T22:00:00\",\"2023-02-03T22:30:00\",\"2023-02-03T23:00:00\",\"2023-02-03T23:30:00\",\"2023-02-04T00:00:00\",\"2023-02-04T00:30:00\",\"2023-02-04T01:00:00\",\"2023-02-04T01:30:00\",\"2023-02-04T02:00:00\",\"2023-02-04T02:30:00\",\"2023-02-04T03:00:00\",\"2023-02-04T03:30:00\",\"2023-02-04T04:00:00\",\"2023-02-04T04:30:00\",\"2023-02-04T05:00:00\",\"2023-02-04T05:30:00\",\"2023-02-04T06:00:00\",\"2023-02-04T06:30:00\",\"2023-02-04T07:00:00\",\"2023-02-04T07:30:00\",\"2023-02-04T08:00:00\",\"2023-02-04T08:30:00\",\"2023-02-04T09:00:00\",\"2023-02-04T09:30:00\",\"2023-02-04T10:00:00\",\"2023-02-04T10:30:00\",\"2023-02-04T11:00:00\",\"2023-02-04T11:30:00\",\"2023-02-04T12:00:00\",\"2023-02-04T12:30:00\",\"2023-02-04T13:00:00\",\"2023-02-04T13:30:00\",\"2023-02-04T14:00:00\",\"2023-02-04T14:30:00\",\"2023-02-04T15:00:00\",\"2023-02-04T15:30:00\",\"2023-02-04T16:00:00\",\"2023-02-04T16:30:00\",\"2023-02-04T17:00:00\",\"2023-02-04T17:30:00\",\"2023-02-04T18:00:00\",\"2023-02-04T18:30:00\",\"2023-02-04T19:00:00\",\"2023-02-04T19:30:00\",\"2023-02-04T20:00:00\",\"2023-02-04T20:30:00\",\"2023-02-04T21:00:00\",\"2023-02-04T21:30:00\",\"2023-02-04T22:00:00\",\"2023-02-04T22:30:00\",\"2023-02-04T23:00:00\",\"2023-02-04T23:30:00\",\"2023-02-05T00:00:00\",\"2023-02-05T00:30:00\",\"2023-02-05T01:00:00\",\"2023-02-05T01:30:00\",\"2023-02-05T02:00:00\",\"2023-02-05T02:30:00\",\"2023-02-05T03:00:00\",\"2023-02-05T03:30:00\",\"2023-02-05T04:00:00\",\"2023-02-05T04:30:00\",\"2023-02-05T05:00:00\",\"2023-02-05T05:30:00\",\"2023-02-05T06:00:00\",\"2023-02-05T06:30:00\",\"2023-02-05T07:00:00\",\"2023-02-05T07:30:00\",\"2023-02-05T08:00:00\",\"2023-02-05T08:30:00\",\"2023-02-05T09:00:00\",\"2023-02-05T09:30:00\",\"2023-02-05T10:00:00\",\"2023-02-05T10:30:00\",\"2023-02-05T11:00:00\",\"2023-02-05T11:30:00\",\"2023-02-05T12:00:00\",\"2023-02-05T12:30:00\",\"2023-02-05T13:00:00\",\"2023-02-05T13:30:00\",\"2023-02-05T14:00:00\",\"2023-02-05T14:30:00\",\"2023-02-05T15:00:00\",\"2023-02-05T15:30:00\",\"2023-02-05T16:00:00\",\"2023-02-05T16:30:00\",\"2023-02-05T17:00:00\",\"2023-02-05T17:30:00\",\"2023-02-05T18:00:00\",\"2023-02-05T18:30:00\",\"2023-02-05T19:00:00\",\"2023-02-05T19:30:00\",\"2023-02-05T20:00:00\",\"2023-02-05T20:30:00\",\"2023-02-05T21:00:00\",\"2023-02-05T21:30:00\",\"2023-02-05T22:00:00\",\"2023-02-05T22:30:00\",\"2023-02-05T23:00:00\",\"2023-02-05T23:30:00\",\"2023-02-06T00:00:00\",\"2023-02-06T00:30:00\"],\"xaxis\":\"x\",\"y\":[0.0,0.0,0.0,0.0,0.0,0.0,0.0,0.0,0.0,0.0,0.0,0.0,0.0,0.0,0.0,0.0,0.0,0.0,0.0,0.0,0.0,0.0,0.0,0.0,0.0,0.0,0.0,0.0,0.0,0.0,0.0,0.0,0.0,0.0,0.0,0.0,0.0,0.0,0.0,0.0,0.0,0.0,0.0,0.0,0.0,0.0,0.0,0.0,0.0,0.0,0.0,0.0,0.0,0.0,0.0,0.0,0.0,0.0,0.0,0.0,0.0,0.0,0.0,0.0,0.0,0.0,0.0,0.0,0.0,0.0,0.0,0.0,0.0,0.0,0.0,0.0,0.0,0.0,0.0,0.0,0.0,0.0,0.0,0.0,0.0,0.0,0.0,0.0,0.0,0.0,0.0,0.0,0.0,0.0,0.0,0.0,0.0,0.0,0.0,0.0,0.0,0.0,0.0,0.0,0.0,0.0,0.0,0.0,0.0,0.0,0.0,0.0,0.0,0.0,0.0,0.0,0.0,0.0,0.0,0.0,0.0,0.0,0.0,0.0,0.0,0.0,0.0,0.0,0.0,0.0,0.0,0.0,0.0,0.0,0.0,0.0,0.0,0.0,0.0,0.0,0.0,0.0,0.0,0.0,0.0,0.0,0.0,0.0,0.0,0.0,0.0,0.0,0.0,0.0,0.0,0.0,0.0,0.0,0.0,0.0,0.0,0.0,0.0,0.0,0.62,0.31,0.0,0.0,0.0,0.0,0.0,0.0,0.0,0.0,0.0,0.0,0.0,0.0,0.0,0.0,0.0,0.0,0.0,0.0,0.0,0.0,0.0,0.0,0.0,0.0,0.0,0.0,0.0,0.0,0.0,0.0,0.0,0.0,0.0,0.0,0.0,0.0,0.0,0.0,0.0,0.0,0.0,0.0,0.0,0.0,0.0,0.135,0.27,0.135,0.0,0.0,0.0,0.0,0.0,0.0,0.0,0.0,0.0,0.0,0.0,0.0,0.0,0.0,0.0,0.0,0.0,0.0,0.0,0.0,0.0,0.0,0.0,0.0,0.0],\"yaxis\":\"y\",\"type\":\"scatter\"}],                        {\"template\":{\"data\":{\"bar\":[{\"error_x\":{\"color\":\"#2a3f5f\"},\"error_y\":{\"color\":\"#2a3f5f\"},\"marker\":{\"line\":{\"color\":\"#E5ECF6\",\"width\":0.5},\"pattern\":{\"fillmode\":\"overlay\",\"size\":10,\"solidity\":0.2}},\"type\":\"bar\"}],\"barpolar\":[{\"marker\":{\"line\":{\"color\":\"#E5ECF6\",\"width\":0.5},\"pattern\":{\"fillmode\":\"overlay\",\"size\":10,\"solidity\":0.2}},\"type\":\"barpolar\"}],\"carpet\":[{\"aaxis\":{\"endlinecolor\":\"#2a3f5f\",\"gridcolor\":\"white\",\"linecolor\":\"white\",\"minorgridcolor\":\"white\",\"startlinecolor\":\"#2a3f5f\"},\"baxis\":{\"endlinecolor\":\"#2a3f5f\",\"gridcolor\":\"white\",\"linecolor\":\"white\",\"minorgridcolor\":\"white\",\"startlinecolor\":\"#2a3f5f\"},\"type\":\"carpet\"}],\"choropleth\":[{\"colorbar\":{\"outlinewidth\":0,\"ticks\":\"\"},\"type\":\"choropleth\"}],\"contour\":[{\"colorbar\":{\"outlinewidth\":0,\"ticks\":\"\"},\"colorscale\":[[0.0,\"#0d0887\"],[0.1111111111111111,\"#46039f\"],[0.2222222222222222,\"#7201a8\"],[0.3333333333333333,\"#9c179e\"],[0.4444444444444444,\"#bd3786\"],[0.5555555555555556,\"#d8576b\"],[0.6666666666666666,\"#ed7953\"],[0.7777777777777778,\"#fb9f3a\"],[0.8888888888888888,\"#fdca26\"],[1.0,\"#f0f921\"]],\"type\":\"contour\"}],\"contourcarpet\":[{\"colorbar\":{\"outlinewidth\":0,\"ticks\":\"\"},\"type\":\"contourcarpet\"}],\"heatmap\":[{\"colorbar\":{\"outlinewidth\":0,\"ticks\":\"\"},\"colorscale\":[[0.0,\"#0d0887\"],[0.1111111111111111,\"#46039f\"],[0.2222222222222222,\"#7201a8\"],[0.3333333333333333,\"#9c179e\"],[0.4444444444444444,\"#bd3786\"],[0.5555555555555556,\"#d8576b\"],[0.6666666666666666,\"#ed7953\"],[0.7777777777777778,\"#fb9f3a\"],[0.8888888888888888,\"#fdca26\"],[1.0,\"#f0f921\"]],\"type\":\"heatmap\"}],\"heatmapgl\":[{\"colorbar\":{\"outlinewidth\":0,\"ticks\":\"\"},\"colorscale\":[[0.0,\"#0d0887\"],[0.1111111111111111,\"#46039f\"],[0.2222222222222222,\"#7201a8\"],[0.3333333333333333,\"#9c179e\"],[0.4444444444444444,\"#bd3786\"],[0.5555555555555556,\"#d8576b\"],[0.6666666666666666,\"#ed7953\"],[0.7777777777777778,\"#fb9f3a\"],[0.8888888888888888,\"#fdca26\"],[1.0,\"#f0f921\"]],\"type\":\"heatmapgl\"}],\"histogram\":[{\"marker\":{\"pattern\":{\"fillmode\":\"overlay\",\"size\":10,\"solidity\":0.2}},\"type\":\"histogram\"}],\"histogram2d\":[{\"colorbar\":{\"outlinewidth\":0,\"ticks\":\"\"},\"colorscale\":[[0.0,\"#0d0887\"],[0.1111111111111111,\"#46039f\"],[0.2222222222222222,\"#7201a8\"],[0.3333333333333333,\"#9c179e\"],[0.4444444444444444,\"#bd3786\"],[0.5555555555555556,\"#d8576b\"],[0.6666666666666666,\"#ed7953\"],[0.7777777777777778,\"#fb9f3a\"],[0.8888888888888888,\"#fdca26\"],[1.0,\"#f0f921\"]],\"type\":\"histogram2d\"}],\"histogram2dcontour\":[{\"colorbar\":{\"outlinewidth\":0,\"ticks\":\"\"},\"colorscale\":[[0.0,\"#0d0887\"],[0.1111111111111111,\"#46039f\"],[0.2222222222222222,\"#7201a8\"],[0.3333333333333333,\"#9c179e\"],[0.4444444444444444,\"#bd3786\"],[0.5555555555555556,\"#d8576b\"],[0.6666666666666666,\"#ed7953\"],[0.7777777777777778,\"#fb9f3a\"],[0.8888888888888888,\"#fdca26\"],[1.0,\"#f0f921\"]],\"type\":\"histogram2dcontour\"}],\"mesh3d\":[{\"colorbar\":{\"outlinewidth\":0,\"ticks\":\"\"},\"type\":\"mesh3d\"}],\"parcoords\":[{\"line\":{\"colorbar\":{\"outlinewidth\":0,\"ticks\":\"\"}},\"type\":\"parcoords\"}],\"pie\":[{\"automargin\":true,\"type\":\"pie\"}],\"scatter\":[{\"marker\":{\"colorbar\":{\"outlinewidth\":0,\"ticks\":\"\"}},\"type\":\"scatter\"}],\"scatter3d\":[{\"line\":{\"colorbar\":{\"outlinewidth\":0,\"ticks\":\"\"}},\"marker\":{\"colorbar\":{\"outlinewidth\":0,\"ticks\":\"\"}},\"type\":\"scatter3d\"}],\"scattercarpet\":[{\"marker\":{\"colorbar\":{\"outlinewidth\":0,\"ticks\":\"\"}},\"type\":\"scattercarpet\"}],\"scattergeo\":[{\"marker\":{\"colorbar\":{\"outlinewidth\":0,\"ticks\":\"\"}},\"type\":\"scattergeo\"}],\"scattergl\":[{\"marker\":{\"colorbar\":{\"outlinewidth\":0,\"ticks\":\"\"}},\"type\":\"scattergl\"}],\"scattermapbox\":[{\"marker\":{\"colorbar\":{\"outlinewidth\":0,\"ticks\":\"\"}},\"type\":\"scattermapbox\"}],\"scatterpolar\":[{\"marker\":{\"colorbar\":{\"outlinewidth\":0,\"ticks\":\"\"}},\"type\":\"scatterpolar\"}],\"scatterpolargl\":[{\"marker\":{\"colorbar\":{\"outlinewidth\":0,\"ticks\":\"\"}},\"type\":\"scatterpolargl\"}],\"scatterternary\":[{\"marker\":{\"colorbar\":{\"outlinewidth\":0,\"ticks\":\"\"}},\"type\":\"scatterternary\"}],\"surface\":[{\"colorbar\":{\"outlinewidth\":0,\"ticks\":\"\"},\"colorscale\":[[0.0,\"#0d0887\"],[0.1111111111111111,\"#46039f\"],[0.2222222222222222,\"#7201a8\"],[0.3333333333333333,\"#9c179e\"],[0.4444444444444444,\"#bd3786\"],[0.5555555555555556,\"#d8576b\"],[0.6666666666666666,\"#ed7953\"],[0.7777777777777778,\"#fb9f3a\"],[0.8888888888888888,\"#fdca26\"],[1.0,\"#f0f921\"]],\"type\":\"surface\"}],\"table\":[{\"cells\":{\"fill\":{\"color\":\"#EBF0F8\"},\"line\":{\"color\":\"white\"}},\"header\":{\"fill\":{\"color\":\"#C8D4E3\"},\"line\":{\"color\":\"white\"}},\"type\":\"table\"}]},\"layout\":{\"annotationdefaults\":{\"arrowcolor\":\"#2a3f5f\",\"arrowhead\":0,\"arrowwidth\":1},\"autotypenumbers\":\"strict\",\"coloraxis\":{\"colorbar\":{\"outlinewidth\":0,\"ticks\":\"\"}},\"colorscale\":{\"diverging\":[[0,\"#8e0152\"],[0.1,\"#c51b7d\"],[0.2,\"#de77ae\"],[0.3,\"#f1b6da\"],[0.4,\"#fde0ef\"],[0.5,\"#f7f7f7\"],[0.6,\"#e6f5d0\"],[0.7,\"#b8e186\"],[0.8,\"#7fbc41\"],[0.9,\"#4d9221\"],[1,\"#276419\"]],\"sequential\":[[0.0,\"#0d0887\"],[0.1111111111111111,\"#46039f\"],[0.2222222222222222,\"#7201a8\"],[0.3333333333333333,\"#9c179e\"],[0.4444444444444444,\"#bd3786\"],[0.5555555555555556,\"#d8576b\"],[0.6666666666666666,\"#ed7953\"],[0.7777777777777778,\"#fb9f3a\"],[0.8888888888888888,\"#fdca26\"],[1.0,\"#f0f921\"]],\"sequentialminus\":[[0.0,\"#0d0887\"],[0.1111111111111111,\"#46039f\"],[0.2222222222222222,\"#7201a8\"],[0.3333333333333333,\"#9c179e\"],[0.4444444444444444,\"#bd3786\"],[0.5555555555555556,\"#d8576b\"],[0.6666666666666666,\"#ed7953\"],[0.7777777777777778,\"#fb9f3a\"],[0.8888888888888888,\"#fdca26\"],[1.0,\"#f0f921\"]]},\"colorway\":[\"#636efa\",\"#EF553B\",\"#00cc96\",\"#ab63fa\",\"#FFA15A\",\"#19d3f3\",\"#FF6692\",\"#B6E880\",\"#FF97FF\",\"#FECB52\"],\"font\":{\"color\":\"#2a3f5f\"},\"geo\":{\"bgcolor\":\"white\",\"lakecolor\":\"white\",\"landcolor\":\"#E5ECF6\",\"showlakes\":true,\"showland\":true,\"subunitcolor\":\"white\"},\"hoverlabel\":{\"align\":\"left\"},\"hovermode\":\"closest\",\"mapbox\":{\"style\":\"light\"},\"paper_bgcolor\":\"white\",\"plot_bgcolor\":\"#E5ECF6\",\"polar\":{\"angularaxis\":{\"gridcolor\":\"white\",\"linecolor\":\"white\",\"ticks\":\"\"},\"bgcolor\":\"#E5ECF6\",\"radialaxis\":{\"gridcolor\":\"white\",\"linecolor\":\"white\",\"ticks\":\"\"}},\"scene\":{\"xaxis\":{\"backgroundcolor\":\"#E5ECF6\",\"gridcolor\":\"white\",\"gridwidth\":2,\"linecolor\":\"white\",\"showbackground\":true,\"ticks\":\"\",\"zerolinecolor\":\"white\"},\"yaxis\":{\"backgroundcolor\":\"#E5ECF6\",\"gridcolor\":\"white\",\"gridwidth\":2,\"linecolor\":\"white\",\"showbackground\":true,\"ticks\":\"\",\"zerolinecolor\":\"white\"},\"zaxis\":{\"backgroundcolor\":\"#E5ECF6\",\"gridcolor\":\"white\",\"gridwidth\":2,\"linecolor\":\"white\",\"showbackground\":true,\"ticks\":\"\",\"zerolinecolor\":\"white\"}},\"shapedefaults\":{\"line\":{\"color\":\"#2a3f5f\"}},\"ternary\":{\"aaxis\":{\"gridcolor\":\"white\",\"linecolor\":\"white\",\"ticks\":\"\"},\"baxis\":{\"gridcolor\":\"white\",\"linecolor\":\"white\",\"ticks\":\"\"},\"bgcolor\":\"#E5ECF6\",\"caxis\":{\"gridcolor\":\"white\",\"linecolor\":\"white\",\"ticks\":\"\"}},\"title\":{\"x\":0.05},\"xaxis\":{\"automargin\":true,\"gridcolor\":\"white\",\"linecolor\":\"white\",\"ticks\":\"\",\"title\":{\"standoff\":15},\"zerolinecolor\":\"white\",\"zerolinewidth\":2},\"yaxis\":{\"automargin\":true,\"gridcolor\":\"white\",\"linecolor\":\"white\",\"ticks\":\"\",\"title\":{\"standoff\":15},\"zerolinecolor\":\"white\",\"zerolinewidth\":2}}},\"xaxis\":{\"anchor\":\"y\",\"domain\":[0.0,1.0],\"title\":{\"text\":\"DateTime\"}},\"yaxis\":{\"anchor\":\"x\",\"domain\":[0.0,1.0],\"title\":{\"text\":\"value\"}},\"legend\":{\"title\":{\"text\":\"variable\"},\"tracegroupgap\":0},\"title\":{\"text\":\"Precip Resampled\"}},                        {\"responsive\": true}                    ).then(function(){\n",
              "                            \n",
              "var gd = document.getElementById('4ce518ea-d1c9-4d4b-90c8-ae9e5b3c9d9f');\n",
              "var x = new MutationObserver(function (mutations, observer) {{\n",
              "        var display = window.getComputedStyle(gd).display;\n",
              "        if (!display || display === 'none') {{\n",
              "            console.log([gd, 'removed!']);\n",
              "            Plotly.purge(gd);\n",
              "            observer.disconnect();\n",
              "        }}\n",
              "}});\n",
              "\n",
              "// Listen for the removal of the full notebook cells\n",
              "var notebookContainer = gd.closest('#notebook-container');\n",
              "if (notebookContainer) {{\n",
              "    x.observe(notebookContainer, {childList: true});\n",
              "}}\n",
              "\n",
              "// Listen for the clearing of the current output cell\n",
              "var outputEl = gd.closest('.output');\n",
              "if (outputEl) {{\n",
              "    x.observe(outputEl, {childList: true});\n",
              "}}\n",
              "\n",
              "                        })                };                            </script>        </div>\n",
              "</body>\n",
              "</html>"
            ]
          },
          "metadata": {}
        }
      ]
    },
    {
      "cell_type": "code",
      "source": [
        "import plotly.express as px\n",
        "output_df_rs = output_df.set_index('DateTime').resample('3H').mean().interpolate('linear')\n",
        "\n",
        "output_df_rs['Precip_1hr_in'] = output_df_rs['Precip_1hr_in'].cumsum()\n",
        "output_df_rs['Precip_3hr_in'] = output_df_rs['Precip_3hr_in'].cumsum()\n",
        "output_df_rs['Precip_6hr_in'] = output_df_rs['Precip_6hr_in'].cumsum()\n",
        "output_df_rs['Precip_24hr_in'] = output_df_rs['Precip_24hr_in'].cumsum()\n",
        "\n",
        "fig = px.line(output_df_rs, x = output_df_rs.index,y = output_df_rs.columns, markers=False, title = 'Cumulative Precip Resampled')\n",
        "fig.show()\n"
      ],
      "metadata": {
        "colab": {
          "base_uri": "https://localhost:8080/",
          "height": 542
        },
        "id": "wKgGEm5noJMD",
        "outputId": "8c0963db-bec5-43c9-cea2-93b5390a15b1"
      },
      "execution_count": 172,
      "outputs": [
        {
          "output_type": "display_data",
          "data": {
            "text/html": [
              "<html>\n",
              "<head><meta charset=\"utf-8\" /></head>\n",
              "<body>\n",
              "    <div>            <script src=\"https://cdnjs.cloudflare.com/ajax/libs/mathjax/2.7.5/MathJax.js?config=TeX-AMS-MML_SVG\"></script><script type=\"text/javascript\">if (window.MathJax) {MathJax.Hub.Config({SVG: {font: \"STIX-Web\"}});}</script>                <script type=\"text/javascript\">window.PlotlyConfig = {MathJaxConfig: 'local'};</script>\n",
              "        <script src=\"https://cdn.plot.ly/plotly-2.8.3.min.js\"></script>                <div id=\"61d5b8f2-dd05-4f42-a9b3-134da1d4d06f\" class=\"plotly-graph-div\" style=\"height:525px; width:100%;\"></div>            <script type=\"text/javascript\">                                    window.PLOTLYENV=window.PLOTLYENV || {};                                    if (document.getElementById(\"61d5b8f2-dd05-4f42-a9b3-134da1d4d06f\")) {                    Plotly.newPlot(                        \"61d5b8f2-dd05-4f42-a9b3-134da1d4d06f\",                        [{\"hovertemplate\":\"variable=Precip_1hr_in<br>DateTime=%{x}<br>value=%{y}<extra></extra>\",\"legendgroup\":\"Precip_1hr_in\",\"line\":{\"color\":\"#636efa\",\"dash\":\"solid\"},\"marker\":{\"symbol\":\"circle\"},\"mode\":\"lines\",\"name\":\"Precip_1hr_in\",\"orientation\":\"v\",\"showlegend\":true,\"x\":[\"2023-02-01T00:00:00\",\"2023-02-01T03:00:00\",\"2023-02-01T06:00:00\",\"2023-02-01T09:00:00\",\"2023-02-01T12:00:00\",\"2023-02-01T15:00:00\",\"2023-02-01T18:00:00\",\"2023-02-01T21:00:00\",\"2023-02-02T00:00:00\",\"2023-02-02T03:00:00\",\"2023-02-02T06:00:00\",\"2023-02-02T09:00:00\",\"2023-02-02T12:00:00\",\"2023-02-02T15:00:00\",\"2023-02-02T18:00:00\",\"2023-02-02T21:00:00\",\"2023-02-03T00:00:00\",\"2023-02-03T03:00:00\",\"2023-02-03T06:00:00\",\"2023-02-03T09:00:00\",\"2023-02-03T12:00:00\",\"2023-02-03T15:00:00\",\"2023-02-03T18:00:00\",\"2023-02-03T21:00:00\",\"2023-02-04T00:00:00\",\"2023-02-04T03:00:00\",\"2023-02-04T06:00:00\",\"2023-02-04T09:00:00\",\"2023-02-04T12:00:00\",\"2023-02-04T15:00:00\",\"2023-02-04T18:00:00\",\"2023-02-04T21:00:00\",\"2023-02-05T00:00:00\",\"2023-02-05T03:00:00\",\"2023-02-05T06:00:00\",\"2023-02-05T09:00:00\",\"2023-02-05T12:00:00\",\"2023-02-05T15:00:00\",\"2023-02-05T18:00:00\",\"2023-02-05T21:00:00\",\"2023-02-06T00:00:00\"],\"xaxis\":\"x\",\"y\":[0.0,0.0,0.0,0.0,0.0,0.0,0.0,0.0,0.0,0.0,0.0,0.0,0.0,0.0,0.0,0.0,0.0,0.0,0.0,0.0,0.0,0.0,0.0033333333333333335,0.07476190476190475,0.11676190476190476,0.12009523809523809,0.13676190476190475,0.15676190476190474,0.1784285714285714,0.1784285714285714,0.1984285714285714,0.1984285714285714,0.2259285714285714,0.23926190476190473,0.23926190476190473,0.23926190476190473,0.25926190476190475,0.31592857142857145,0.3221785714285714,0.3221785714285714,0.3221785714285714],\"yaxis\":\"y\",\"type\":\"scatter\"},{\"hovertemplate\":\"variable=Precip_3hr_in<br>DateTime=%{x}<br>value=%{y}<extra></extra>\",\"legendgroup\":\"Precip_3hr_in\",\"line\":{\"color\":\"#EF553B\",\"dash\":\"solid\"},\"marker\":{\"symbol\":\"circle\"},\"mode\":\"lines\",\"name\":\"Precip_3hr_in\",\"orientation\":\"v\",\"showlegend\":true,\"x\":[\"2023-02-01T00:00:00\",\"2023-02-01T03:00:00\",\"2023-02-01T06:00:00\",\"2023-02-01T09:00:00\",\"2023-02-01T12:00:00\",\"2023-02-01T15:00:00\",\"2023-02-01T18:00:00\",\"2023-02-01T21:00:00\",\"2023-02-02T00:00:00\",\"2023-02-02T03:00:00\",\"2023-02-02T06:00:00\",\"2023-02-02T09:00:00\",\"2023-02-02T12:00:00\",\"2023-02-02T15:00:00\",\"2023-02-02T18:00:00\",\"2023-02-02T21:00:00\",\"2023-02-03T00:00:00\",\"2023-02-03T03:00:00\",\"2023-02-03T06:00:00\",\"2023-02-03T09:00:00\",\"2023-02-03T12:00:00\",\"2023-02-03T15:00:00\",\"2023-02-03T18:00:00\",\"2023-02-03T21:00:00\",\"2023-02-04T00:00:00\",\"2023-02-04T03:00:00\",\"2023-02-04T06:00:00\",\"2023-02-04T09:00:00\",\"2023-02-04T12:00:00\",\"2023-02-04T15:00:00\",\"2023-02-04T18:00:00\",\"2023-02-04T21:00:00\",\"2023-02-05T00:00:00\",\"2023-02-05T03:00:00\",\"2023-02-05T06:00:00\",\"2023-02-05T09:00:00\",\"2023-02-05T12:00:00\",\"2023-02-05T15:00:00\",\"2023-02-05T18:00:00\",\"2023-02-05T21:00:00\",\"2023-02-06T00:00:00\"],\"xaxis\":\"x\",\"y\":[0.0,0.0,0.0,0.0,0.0,0.0,0.0,0.0,0.0,0.0,0.0,0.0,0.0,0.0,0.0,0.0,0.0,0.0,0.0,0.0,0.0,0.0,0.0016666666666666668,0.0016666666666666668,0.04366666666666666,0.04366666666666666,0.05366666666666666,0.05366666666666666,0.06699999999999999,0.06699999999999999,0.087,0.087,0.10949999999999999,0.10949999999999999,0.10949999999999999,0.10949999999999999,0.12949999999999998,0.12949999999999998,0.13199999999999998,0.13199999999999998,0.13199999999999998],\"yaxis\":\"y\",\"type\":\"scatter\"},{\"hovertemplate\":\"variable=Precip_6hr_in<br>DateTime=%{x}<br>value=%{y}<extra></extra>\",\"legendgroup\":\"Precip_6hr_in\",\"line\":{\"color\":\"#00cc96\",\"dash\":\"solid\"},\"marker\":{\"symbol\":\"circle\"},\"mode\":\"lines\",\"name\":\"Precip_6hr_in\",\"orientation\":\"v\",\"showlegend\":true,\"x\":[\"2023-02-01T00:00:00\",\"2023-02-01T03:00:00\",\"2023-02-01T06:00:00\",\"2023-02-01T09:00:00\",\"2023-02-01T12:00:00\",\"2023-02-01T15:00:00\",\"2023-02-01T18:00:00\",\"2023-02-01T21:00:00\",\"2023-02-02T00:00:00\",\"2023-02-02T03:00:00\",\"2023-02-02T06:00:00\",\"2023-02-02T09:00:00\",\"2023-02-02T12:00:00\",\"2023-02-02T15:00:00\",\"2023-02-02T18:00:00\",\"2023-02-02T21:00:00\",\"2023-02-03T00:00:00\",\"2023-02-03T03:00:00\",\"2023-02-03T06:00:00\",\"2023-02-03T09:00:00\",\"2023-02-03T12:00:00\",\"2023-02-03T15:00:00\",\"2023-02-03T18:00:00\",\"2023-02-03T21:00:00\",\"2023-02-04T00:00:00\",\"2023-02-04T03:00:00\",\"2023-02-04T06:00:00\",\"2023-02-04T09:00:00\",\"2023-02-04T12:00:00\",\"2023-02-04T15:00:00\",\"2023-02-04T18:00:00\",\"2023-02-04T21:00:00\",\"2023-02-05T00:00:00\",\"2023-02-05T03:00:00\",\"2023-02-05T06:00:00\",\"2023-02-05T09:00:00\",\"2023-02-05T12:00:00\",\"2023-02-05T15:00:00\",\"2023-02-05T18:00:00\",\"2023-02-05T21:00:00\",\"2023-02-06T00:00:00\"],\"xaxis\":\"x\",\"y\":[0.0,0.0,0.0,0.0,0.0,0.0,0.0,0.0,0.0,0.0,0.0,0.0,0.0,0.0,0.0,0.0,0.0,0.0,0.0,0.0,0.0,0.0,0.0,0.037142857142857144,0.037142857142857144,0.07547619047619047,0.07547619047619047,0.10797619047619048,0.10797619047619048,0.1194047619047619,0.1194047619047619,0.13440476190476192,0.13440476190476192,0.17773809523809525,0.17773809523809525,0.17773809523809525,0.17773809523809525,0.2544047619047619,0.2544047619047619,0.2569047619047619,0.2569047619047619],\"yaxis\":\"y\",\"type\":\"scatter\"},{\"hovertemplate\":\"variable=Precip_24hr_in<br>DateTime=%{x}<br>value=%{y}<extra></extra>\",\"legendgroup\":\"Precip_24hr_in\",\"line\":{\"color\":\"#ab63fa\",\"dash\":\"solid\"},\"marker\":{\"symbol\":\"circle\"},\"mode\":\"lines\",\"name\":\"Precip_24hr_in\",\"orientation\":\"v\",\"showlegend\":true,\"x\":[\"2023-02-01T00:00:00\",\"2023-02-01T03:00:00\",\"2023-02-01T06:00:00\",\"2023-02-01T09:00:00\",\"2023-02-01T12:00:00\",\"2023-02-01T15:00:00\",\"2023-02-01T18:00:00\",\"2023-02-01T21:00:00\",\"2023-02-02T00:00:00\",\"2023-02-02T03:00:00\",\"2023-02-02T06:00:00\",\"2023-02-02T09:00:00\",\"2023-02-02T12:00:00\",\"2023-02-02T15:00:00\",\"2023-02-02T18:00:00\",\"2023-02-02T21:00:00\",\"2023-02-03T00:00:00\",\"2023-02-03T03:00:00\",\"2023-02-03T06:00:00\",\"2023-02-03T09:00:00\",\"2023-02-03T12:00:00\",\"2023-02-03T15:00:00\",\"2023-02-03T18:00:00\",\"2023-02-03T21:00:00\",\"2023-02-04T00:00:00\",\"2023-02-04T03:00:00\",\"2023-02-04T06:00:00\",\"2023-02-04T09:00:00\",\"2023-02-04T12:00:00\",\"2023-02-04T15:00:00\",\"2023-02-04T18:00:00\",\"2023-02-04T21:00:00\",\"2023-02-05T00:00:00\",\"2023-02-05T03:00:00\",\"2023-02-05T06:00:00\",\"2023-02-05T09:00:00\",\"2023-02-05T12:00:00\",\"2023-02-05T15:00:00\",\"2023-02-05T18:00:00\",\"2023-02-05T21:00:00\",\"2023-02-06T00:00:00\"],\"xaxis\":\"x\",\"y\":[0.0,0.0,0.0,0.0,0.0,0.0,0.0,0.0,0.0,0.0,0.0,0.0,0.0,0.0,0.0,0.0,0.0,0.0,0.0,0.0,0.0,0.0,0.0,0.0,0.0,0.0,0.0,0.155,0.155,0.155,0.155,0.155,0.155,0.155,0.155,0.245,0.245,0.245,0.245,0.245,0.245],\"yaxis\":\"y\",\"type\":\"scatter\"}],                        {\"template\":{\"data\":{\"bar\":[{\"error_x\":{\"color\":\"#2a3f5f\"},\"error_y\":{\"color\":\"#2a3f5f\"},\"marker\":{\"line\":{\"color\":\"#E5ECF6\",\"width\":0.5},\"pattern\":{\"fillmode\":\"overlay\",\"size\":10,\"solidity\":0.2}},\"type\":\"bar\"}],\"barpolar\":[{\"marker\":{\"line\":{\"color\":\"#E5ECF6\",\"width\":0.5},\"pattern\":{\"fillmode\":\"overlay\",\"size\":10,\"solidity\":0.2}},\"type\":\"barpolar\"}],\"carpet\":[{\"aaxis\":{\"endlinecolor\":\"#2a3f5f\",\"gridcolor\":\"white\",\"linecolor\":\"white\",\"minorgridcolor\":\"white\",\"startlinecolor\":\"#2a3f5f\"},\"baxis\":{\"endlinecolor\":\"#2a3f5f\",\"gridcolor\":\"white\",\"linecolor\":\"white\",\"minorgridcolor\":\"white\",\"startlinecolor\":\"#2a3f5f\"},\"type\":\"carpet\"}],\"choropleth\":[{\"colorbar\":{\"outlinewidth\":0,\"ticks\":\"\"},\"type\":\"choropleth\"}],\"contour\":[{\"colorbar\":{\"outlinewidth\":0,\"ticks\":\"\"},\"colorscale\":[[0.0,\"#0d0887\"],[0.1111111111111111,\"#46039f\"],[0.2222222222222222,\"#7201a8\"],[0.3333333333333333,\"#9c179e\"],[0.4444444444444444,\"#bd3786\"],[0.5555555555555556,\"#d8576b\"],[0.6666666666666666,\"#ed7953\"],[0.7777777777777778,\"#fb9f3a\"],[0.8888888888888888,\"#fdca26\"],[1.0,\"#f0f921\"]],\"type\":\"contour\"}],\"contourcarpet\":[{\"colorbar\":{\"outlinewidth\":0,\"ticks\":\"\"},\"type\":\"contourcarpet\"}],\"heatmap\":[{\"colorbar\":{\"outlinewidth\":0,\"ticks\":\"\"},\"colorscale\":[[0.0,\"#0d0887\"],[0.1111111111111111,\"#46039f\"],[0.2222222222222222,\"#7201a8\"],[0.3333333333333333,\"#9c179e\"],[0.4444444444444444,\"#bd3786\"],[0.5555555555555556,\"#d8576b\"],[0.6666666666666666,\"#ed7953\"],[0.7777777777777778,\"#fb9f3a\"],[0.8888888888888888,\"#fdca26\"],[1.0,\"#f0f921\"]],\"type\":\"heatmap\"}],\"heatmapgl\":[{\"colorbar\":{\"outlinewidth\":0,\"ticks\":\"\"},\"colorscale\":[[0.0,\"#0d0887\"],[0.1111111111111111,\"#46039f\"],[0.2222222222222222,\"#7201a8\"],[0.3333333333333333,\"#9c179e\"],[0.4444444444444444,\"#bd3786\"],[0.5555555555555556,\"#d8576b\"],[0.6666666666666666,\"#ed7953\"],[0.7777777777777778,\"#fb9f3a\"],[0.8888888888888888,\"#fdca26\"],[1.0,\"#f0f921\"]],\"type\":\"heatmapgl\"}],\"histogram\":[{\"marker\":{\"pattern\":{\"fillmode\":\"overlay\",\"size\":10,\"solidity\":0.2}},\"type\":\"histogram\"}],\"histogram2d\":[{\"colorbar\":{\"outlinewidth\":0,\"ticks\":\"\"},\"colorscale\":[[0.0,\"#0d0887\"],[0.1111111111111111,\"#46039f\"],[0.2222222222222222,\"#7201a8\"],[0.3333333333333333,\"#9c179e\"],[0.4444444444444444,\"#bd3786\"],[0.5555555555555556,\"#d8576b\"],[0.6666666666666666,\"#ed7953\"],[0.7777777777777778,\"#fb9f3a\"],[0.8888888888888888,\"#fdca26\"],[1.0,\"#f0f921\"]],\"type\":\"histogram2d\"}],\"histogram2dcontour\":[{\"colorbar\":{\"outlinewidth\":0,\"ticks\":\"\"},\"colorscale\":[[0.0,\"#0d0887\"],[0.1111111111111111,\"#46039f\"],[0.2222222222222222,\"#7201a8\"],[0.3333333333333333,\"#9c179e\"],[0.4444444444444444,\"#bd3786\"],[0.5555555555555556,\"#d8576b\"],[0.6666666666666666,\"#ed7953\"],[0.7777777777777778,\"#fb9f3a\"],[0.8888888888888888,\"#fdca26\"],[1.0,\"#f0f921\"]],\"type\":\"histogram2dcontour\"}],\"mesh3d\":[{\"colorbar\":{\"outlinewidth\":0,\"ticks\":\"\"},\"type\":\"mesh3d\"}],\"parcoords\":[{\"line\":{\"colorbar\":{\"outlinewidth\":0,\"ticks\":\"\"}},\"type\":\"parcoords\"}],\"pie\":[{\"automargin\":true,\"type\":\"pie\"}],\"scatter\":[{\"marker\":{\"colorbar\":{\"outlinewidth\":0,\"ticks\":\"\"}},\"type\":\"scatter\"}],\"scatter3d\":[{\"line\":{\"colorbar\":{\"outlinewidth\":0,\"ticks\":\"\"}},\"marker\":{\"colorbar\":{\"outlinewidth\":0,\"ticks\":\"\"}},\"type\":\"scatter3d\"}],\"scattercarpet\":[{\"marker\":{\"colorbar\":{\"outlinewidth\":0,\"ticks\":\"\"}},\"type\":\"scattercarpet\"}],\"scattergeo\":[{\"marker\":{\"colorbar\":{\"outlinewidth\":0,\"ticks\":\"\"}},\"type\":\"scattergeo\"}],\"scattergl\":[{\"marker\":{\"colorbar\":{\"outlinewidth\":0,\"ticks\":\"\"}},\"type\":\"scattergl\"}],\"scattermapbox\":[{\"marker\":{\"colorbar\":{\"outlinewidth\":0,\"ticks\":\"\"}},\"type\":\"scattermapbox\"}],\"scatterpolar\":[{\"marker\":{\"colorbar\":{\"outlinewidth\":0,\"ticks\":\"\"}},\"type\":\"scatterpolar\"}],\"scatterpolargl\":[{\"marker\":{\"colorbar\":{\"outlinewidth\":0,\"ticks\":\"\"}},\"type\":\"scatterpolargl\"}],\"scatterternary\":[{\"marker\":{\"colorbar\":{\"outlinewidth\":0,\"ticks\":\"\"}},\"type\":\"scatterternary\"}],\"surface\":[{\"colorbar\":{\"outlinewidth\":0,\"ticks\":\"\"},\"colorscale\":[[0.0,\"#0d0887\"],[0.1111111111111111,\"#46039f\"],[0.2222222222222222,\"#7201a8\"],[0.3333333333333333,\"#9c179e\"],[0.4444444444444444,\"#bd3786\"],[0.5555555555555556,\"#d8576b\"],[0.6666666666666666,\"#ed7953\"],[0.7777777777777778,\"#fb9f3a\"],[0.8888888888888888,\"#fdca26\"],[1.0,\"#f0f921\"]],\"type\":\"surface\"}],\"table\":[{\"cells\":{\"fill\":{\"color\":\"#EBF0F8\"},\"line\":{\"color\":\"white\"}},\"header\":{\"fill\":{\"color\":\"#C8D4E3\"},\"line\":{\"color\":\"white\"}},\"type\":\"table\"}]},\"layout\":{\"annotationdefaults\":{\"arrowcolor\":\"#2a3f5f\",\"arrowhead\":0,\"arrowwidth\":1},\"autotypenumbers\":\"strict\",\"coloraxis\":{\"colorbar\":{\"outlinewidth\":0,\"ticks\":\"\"}},\"colorscale\":{\"diverging\":[[0,\"#8e0152\"],[0.1,\"#c51b7d\"],[0.2,\"#de77ae\"],[0.3,\"#f1b6da\"],[0.4,\"#fde0ef\"],[0.5,\"#f7f7f7\"],[0.6,\"#e6f5d0\"],[0.7,\"#b8e186\"],[0.8,\"#7fbc41\"],[0.9,\"#4d9221\"],[1,\"#276419\"]],\"sequential\":[[0.0,\"#0d0887\"],[0.1111111111111111,\"#46039f\"],[0.2222222222222222,\"#7201a8\"],[0.3333333333333333,\"#9c179e\"],[0.4444444444444444,\"#bd3786\"],[0.5555555555555556,\"#d8576b\"],[0.6666666666666666,\"#ed7953\"],[0.7777777777777778,\"#fb9f3a\"],[0.8888888888888888,\"#fdca26\"],[1.0,\"#f0f921\"]],\"sequentialminus\":[[0.0,\"#0d0887\"],[0.1111111111111111,\"#46039f\"],[0.2222222222222222,\"#7201a8\"],[0.3333333333333333,\"#9c179e\"],[0.4444444444444444,\"#bd3786\"],[0.5555555555555556,\"#d8576b\"],[0.6666666666666666,\"#ed7953\"],[0.7777777777777778,\"#fb9f3a\"],[0.8888888888888888,\"#fdca26\"],[1.0,\"#f0f921\"]]},\"colorway\":[\"#636efa\",\"#EF553B\",\"#00cc96\",\"#ab63fa\",\"#FFA15A\",\"#19d3f3\",\"#FF6692\",\"#B6E880\",\"#FF97FF\",\"#FECB52\"],\"font\":{\"color\":\"#2a3f5f\"},\"geo\":{\"bgcolor\":\"white\",\"lakecolor\":\"white\",\"landcolor\":\"#E5ECF6\",\"showlakes\":true,\"showland\":true,\"subunitcolor\":\"white\"},\"hoverlabel\":{\"align\":\"left\"},\"hovermode\":\"closest\",\"mapbox\":{\"style\":\"light\"},\"paper_bgcolor\":\"white\",\"plot_bgcolor\":\"#E5ECF6\",\"polar\":{\"angularaxis\":{\"gridcolor\":\"white\",\"linecolor\":\"white\",\"ticks\":\"\"},\"bgcolor\":\"#E5ECF6\",\"radialaxis\":{\"gridcolor\":\"white\",\"linecolor\":\"white\",\"ticks\":\"\"}},\"scene\":{\"xaxis\":{\"backgroundcolor\":\"#E5ECF6\",\"gridcolor\":\"white\",\"gridwidth\":2,\"linecolor\":\"white\",\"showbackground\":true,\"ticks\":\"\",\"zerolinecolor\":\"white\"},\"yaxis\":{\"backgroundcolor\":\"#E5ECF6\",\"gridcolor\":\"white\",\"gridwidth\":2,\"linecolor\":\"white\",\"showbackground\":true,\"ticks\":\"\",\"zerolinecolor\":\"white\"},\"zaxis\":{\"backgroundcolor\":\"#E5ECF6\",\"gridcolor\":\"white\",\"gridwidth\":2,\"linecolor\":\"white\",\"showbackground\":true,\"ticks\":\"\",\"zerolinecolor\":\"white\"}},\"shapedefaults\":{\"line\":{\"color\":\"#2a3f5f\"}},\"ternary\":{\"aaxis\":{\"gridcolor\":\"white\",\"linecolor\":\"white\",\"ticks\":\"\"},\"baxis\":{\"gridcolor\":\"white\",\"linecolor\":\"white\",\"ticks\":\"\"},\"bgcolor\":\"#E5ECF6\",\"caxis\":{\"gridcolor\":\"white\",\"linecolor\":\"white\",\"ticks\":\"\"}},\"title\":{\"x\":0.05},\"xaxis\":{\"automargin\":true,\"gridcolor\":\"white\",\"linecolor\":\"white\",\"ticks\":\"\",\"title\":{\"standoff\":15},\"zerolinecolor\":\"white\",\"zerolinewidth\":2},\"yaxis\":{\"automargin\":true,\"gridcolor\":\"white\",\"linecolor\":\"white\",\"ticks\":\"\",\"title\":{\"standoff\":15},\"zerolinecolor\":\"white\",\"zerolinewidth\":2}}},\"xaxis\":{\"anchor\":\"y\",\"domain\":[0.0,1.0],\"title\":{\"text\":\"DateTime\"}},\"yaxis\":{\"anchor\":\"x\",\"domain\":[0.0,1.0],\"title\":{\"text\":\"value\"}},\"legend\":{\"title\":{\"text\":\"variable\"},\"tracegroupgap\":0},\"title\":{\"text\":\"Cumulative Precip Resampled\"}},                        {\"responsive\": true}                    ).then(function(){\n",
              "                            \n",
              "var gd = document.getElementById('61d5b8f2-dd05-4f42-a9b3-134da1d4d06f');\n",
              "var x = new MutationObserver(function (mutations, observer) {{\n",
              "        var display = window.getComputedStyle(gd).display;\n",
              "        if (!display || display === 'none') {{\n",
              "            console.log([gd, 'removed!']);\n",
              "            Plotly.purge(gd);\n",
              "            observer.disconnect();\n",
              "        }}\n",
              "}});\n",
              "\n",
              "// Listen for the removal of the full notebook cells\n",
              "var notebookContainer = gd.closest('#notebook-container');\n",
              "if (notebookContainer) {{\n",
              "    x.observe(notebookContainer, {childList: true});\n",
              "}}\n",
              "\n",
              "// Listen for the clearing of the current output cell\n",
              "var outputEl = gd.closest('.output');\n",
              "if (outputEl) {{\n",
              "    x.observe(outputEl, {childList: true});\n",
              "}}\n",
              "\n",
              "                        })                };                            </script>        </div>\n",
              "</body>\n",
              "</html>"
            ]
          },
          "metadata": {}
        }
      ]
    },
    {
      "cell_type": "code",
      "source": [
        "output_df_rs = output_df.set_index('DateTime').resample('15Min').mean().interpolate('linear')\n",
        "#output_df_rs"
      ],
      "metadata": {
        "id": "XLvYvviPsONg"
      },
      "execution_count": 173,
      "outputs": []
    },
    {
      "cell_type": "code",
      "source": [
        "print (par_text.ice_accretion_6hr)"
      ],
      "metadata": {
        "colab": {
          "base_uri": "https://localhost:8080/"
        },
        "id": "T93KxExhb7Xx",
        "outputId": "4c12163d-4c54-4d17-a813-ebb262e04f6b"
      },
      "execution_count": 175,
      "outputs": [
        {
          "output_type": "stream",
          "name": "stdout",
          "text": [
            "None\n"
          ]
        }
      ]
    }
  ]
}